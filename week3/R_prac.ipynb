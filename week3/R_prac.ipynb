{
  "nbformat": 4,
  "nbformat_minor": 0,
  "metadata": {
    "colab": {
      "name": "R_prac.ipynb",
      "provenance": []
    },
    "kernelspec": {
      "name": "ir",
      "display_name": "R"
    }
  },
  "cells": [
    {
      "cell_type": "markdown",
      "metadata": {
        "id": "bybEHgKD3jx8"
      },
      "source": [
        "## 패키지 설치 및 불러오기"
      ]
    },
    {
      "cell_type": "code",
      "metadata": {
        "colab": {
          "base_uri": "https://localhost:8080/"
        },
        "id": "dyl93VpJy6Gu",
        "outputId": "0ab34851-3b29-45f5-c015-c94a47cee9a5"
      },
      "source": [
        "install.packages('nycflights13')"
      ],
      "execution_count": 2,
      "outputs": [
        {
          "output_type": "stream",
          "text": [
            "Installing package into ‘/usr/local/lib/R/site-library’\n",
            "(as ‘lib’ is unspecified)\n",
            "\n"
          ],
          "name": "stderr"
        }
      ]
    },
    {
      "cell_type": "code",
      "metadata": {
        "colab": {
          "base_uri": "https://localhost:8080/"
        },
        "id": "BPOlV83zzsQw",
        "outputId": "f77cb2fe-30d3-439e-f56f-d4a1a53c71f5"
      },
      "source": [
        "install.packages('dplyr')"
      ],
      "execution_count": 4,
      "outputs": [
        {
          "output_type": "stream",
          "text": [
            "Installing package into ‘/usr/local/lib/R/site-library’\n",
            "(as ‘lib’ is unspecified)\n",
            "\n"
          ],
          "name": "stderr"
        }
      ]
    },
    {
      "cell_type": "code",
      "metadata": {
        "colab": {
          "base_uri": "https://localhost:8080/"
        },
        "id": "C8bFFwuYLmDd",
        "outputId": "e0121d8b-ea3a-40f6-b37d-94d7820f27b4"
      },
      "source": [
        "install.packages('ggplot2')"
      ],
      "execution_count": 32,
      "outputs": [
        {
          "output_type": "stream",
          "text": [
            "Installing package into ‘/usr/local/lib/R/site-library’\n",
            "(as ‘lib’ is unspecified)\n",
            "\n"
          ],
          "name": "stderr"
        }
      ]
    },
    {
      "cell_type": "code",
      "metadata": {
        "id": "vrPRPCeFy1In"
      },
      "source": [
        "library(nycflights13)\n",
        "library(dplyr)\n",
        "library(ggplot2)"
      ],
      "execution_count": 33,
      "outputs": []
    },
    {
      "cell_type": "markdown",
      "metadata": {
        "id": "-EiC0BIj3nb6"
      },
      "source": [
        "## 데이터 살펴보기"
      ]
    },
    {
      "cell_type": "code",
      "metadata": {
        "colab": {
          "base_uri": "https://localhost:8080/",
          "height": 283
        },
        "id": "iBgh7t773uhl",
        "outputId": "70b47604-32a6-40e7-b66d-84de65e7b9f1"
      },
      "source": [
        "head(flights)"
      ],
      "execution_count": 13,
      "outputs": [
        {
          "output_type": "display_data",
          "data": {
            "text/plain": [
              "  year month day dep_time sched_dep_time dep_delay arr_time sched_arr_time\n",
              "1 2013 1     1   517      515             2         830      819          \n",
              "2 2013 1     1   533      529             4         850      830          \n",
              "3 2013 1     1   542      540             2         923      850          \n",
              "4 2013 1     1   544      545            -1        1004     1022          \n",
              "5 2013 1     1   554      600            -6         812      837          \n",
              "6 2013 1     1   554      558            -4         740      728          \n",
              "  arr_delay carrier flight tailnum origin dest air_time distance hour minute\n",
              "1  11       UA      1545   N14228  EWR    IAH  227      1400     5    15    \n",
              "2  20       UA      1714   N24211  LGA    IAH  227      1416     5    29    \n",
              "3  33       AA      1141   N619AA  JFK    MIA  160      1089     5    40    \n",
              "4 -18       B6       725   N804JB  JFK    BQN  183      1576     5    45    \n",
              "5 -25       DL       461   N668DN  LGA    ATL  116       762     6     0    \n",
              "6  12       UA      1696   N39463  EWR    ORD  150       719     5    58    \n",
              "  time_hour          \n",
              "1 2013-01-01 05:00:00\n",
              "2 2013-01-01 05:00:00\n",
              "3 2013-01-01 05:00:00\n",
              "4 2013-01-01 05:00:00\n",
              "5 2013-01-01 06:00:00\n",
              "6 2013-01-01 05:00:00"
            ],
            "text/latex": "A tibble: 6 × 19\n\\begin{tabular}{lllllllllllllllllll}\n year & month & day & dep\\_time & sched\\_dep\\_time & dep\\_delay & arr\\_time & sched\\_arr\\_time & arr\\_delay & carrier & flight & tailnum & origin & dest & air\\_time & distance & hour & minute & time\\_hour\\\\\n <int> & <int> & <int> & <int> & <int> & <dbl> & <int> & <int> & <dbl> & <chr> & <int> & <chr> & <chr> & <chr> & <dbl> & <dbl> & <dbl> & <dbl> & <dttm>\\\\\n\\hline\n\t 2013 & 1 & 1 & 517 & 515 &  2 &  830 &  819 &  11 & UA & 1545 & N14228 & EWR & IAH & 227 & 1400 & 5 & 15 & 2013-01-01 05:00:00\\\\\n\t 2013 & 1 & 1 & 533 & 529 &  4 &  850 &  830 &  20 & UA & 1714 & N24211 & LGA & IAH & 227 & 1416 & 5 & 29 & 2013-01-01 05:00:00\\\\\n\t 2013 & 1 & 1 & 542 & 540 &  2 &  923 &  850 &  33 & AA & 1141 & N619AA & JFK & MIA & 160 & 1089 & 5 & 40 & 2013-01-01 05:00:00\\\\\n\t 2013 & 1 & 1 & 544 & 545 & -1 & 1004 & 1022 & -18 & B6 &  725 & N804JB & JFK & BQN & 183 & 1576 & 5 & 45 & 2013-01-01 05:00:00\\\\\n\t 2013 & 1 & 1 & 554 & 600 & -6 &  812 &  837 & -25 & DL &  461 & N668DN & LGA & ATL & 116 &  762 & 6 &  0 & 2013-01-01 06:00:00\\\\\n\t 2013 & 1 & 1 & 554 & 558 & -4 &  740 &  728 &  12 & UA & 1696 & N39463 & EWR & ORD & 150 &  719 & 5 & 58 & 2013-01-01 05:00:00\\\\\n\\end{tabular}\n",
            "text/markdown": "\nA tibble: 6 × 19\n\n| year &lt;int&gt; | month &lt;int&gt; | day &lt;int&gt; | dep_time &lt;int&gt; | sched_dep_time &lt;int&gt; | dep_delay &lt;dbl&gt; | arr_time &lt;int&gt; | sched_arr_time &lt;int&gt; | arr_delay &lt;dbl&gt; | carrier &lt;chr&gt; | flight &lt;int&gt; | tailnum &lt;chr&gt; | origin &lt;chr&gt; | dest &lt;chr&gt; | air_time &lt;dbl&gt; | distance &lt;dbl&gt; | hour &lt;dbl&gt; | minute &lt;dbl&gt; | time_hour &lt;dttm&gt; |\n|---|---|---|---|---|---|---|---|---|---|---|---|---|---|---|---|---|---|---|\n| 2013 | 1 | 1 | 517 | 515 |  2 |  830 |  819 |  11 | UA | 1545 | N14228 | EWR | IAH | 227 | 1400 | 5 | 15 | 2013-01-01 05:00:00 |\n| 2013 | 1 | 1 | 533 | 529 |  4 |  850 |  830 |  20 | UA | 1714 | N24211 | LGA | IAH | 227 | 1416 | 5 | 29 | 2013-01-01 05:00:00 |\n| 2013 | 1 | 1 | 542 | 540 |  2 |  923 |  850 |  33 | AA | 1141 | N619AA | JFK | MIA | 160 | 1089 | 5 | 40 | 2013-01-01 05:00:00 |\n| 2013 | 1 | 1 | 544 | 545 | -1 | 1004 | 1022 | -18 | B6 |  725 | N804JB | JFK | BQN | 183 | 1576 | 5 | 45 | 2013-01-01 05:00:00 |\n| 2013 | 1 | 1 | 554 | 600 | -6 |  812 |  837 | -25 | DL |  461 | N668DN | LGA | ATL | 116 |  762 | 6 |  0 | 2013-01-01 06:00:00 |\n| 2013 | 1 | 1 | 554 | 558 | -4 |  740 |  728 |  12 | UA | 1696 | N39463 | EWR | ORD | 150 |  719 | 5 | 58 | 2013-01-01 05:00:00 |\n\n",
            "text/html": [
              "<table class=\"dataframe\">\n",
              "<caption>A tibble: 6 × 19</caption>\n",
              "<thead>\n",
              "\t<tr><th scope=col>year</th><th scope=col>month</th><th scope=col>day</th><th scope=col>dep_time</th><th scope=col>sched_dep_time</th><th scope=col>dep_delay</th><th scope=col>arr_time</th><th scope=col>sched_arr_time</th><th scope=col>arr_delay</th><th scope=col>carrier</th><th scope=col>flight</th><th scope=col>tailnum</th><th scope=col>origin</th><th scope=col>dest</th><th scope=col>air_time</th><th scope=col>distance</th><th scope=col>hour</th><th scope=col>minute</th><th scope=col>time_hour</th></tr>\n",
              "\t<tr><th scope=col>&lt;int&gt;</th><th scope=col>&lt;int&gt;</th><th scope=col>&lt;int&gt;</th><th scope=col>&lt;int&gt;</th><th scope=col>&lt;int&gt;</th><th scope=col>&lt;dbl&gt;</th><th scope=col>&lt;int&gt;</th><th scope=col>&lt;int&gt;</th><th scope=col>&lt;dbl&gt;</th><th scope=col>&lt;chr&gt;</th><th scope=col>&lt;int&gt;</th><th scope=col>&lt;chr&gt;</th><th scope=col>&lt;chr&gt;</th><th scope=col>&lt;chr&gt;</th><th scope=col>&lt;dbl&gt;</th><th scope=col>&lt;dbl&gt;</th><th scope=col>&lt;dbl&gt;</th><th scope=col>&lt;dbl&gt;</th><th scope=col>&lt;dttm&gt;</th></tr>\n",
              "</thead>\n",
              "<tbody>\n",
              "\t<tr><td>2013</td><td>1</td><td>1</td><td>517</td><td>515</td><td> 2</td><td> 830</td><td> 819</td><td> 11</td><td>UA</td><td>1545</td><td>N14228</td><td>EWR</td><td>IAH</td><td>227</td><td>1400</td><td>5</td><td>15</td><td>2013-01-01 05:00:00</td></tr>\n",
              "\t<tr><td>2013</td><td>1</td><td>1</td><td>533</td><td>529</td><td> 4</td><td> 850</td><td> 830</td><td> 20</td><td>UA</td><td>1714</td><td>N24211</td><td>LGA</td><td>IAH</td><td>227</td><td>1416</td><td>5</td><td>29</td><td>2013-01-01 05:00:00</td></tr>\n",
              "\t<tr><td>2013</td><td>1</td><td>1</td><td>542</td><td>540</td><td> 2</td><td> 923</td><td> 850</td><td> 33</td><td>AA</td><td>1141</td><td>N619AA</td><td>JFK</td><td>MIA</td><td>160</td><td>1089</td><td>5</td><td>40</td><td>2013-01-01 05:00:00</td></tr>\n",
              "\t<tr><td>2013</td><td>1</td><td>1</td><td>544</td><td>545</td><td>-1</td><td>1004</td><td>1022</td><td>-18</td><td>B6</td><td> 725</td><td>N804JB</td><td>JFK</td><td>BQN</td><td>183</td><td>1576</td><td>5</td><td>45</td><td>2013-01-01 05:00:00</td></tr>\n",
              "\t<tr><td>2013</td><td>1</td><td>1</td><td>554</td><td>600</td><td>-6</td><td> 812</td><td> 837</td><td>-25</td><td>DL</td><td> 461</td><td>N668DN</td><td>LGA</td><td>ATL</td><td>116</td><td> 762</td><td>6</td><td> 0</td><td>2013-01-01 06:00:00</td></tr>\n",
              "\t<tr><td>2013</td><td>1</td><td>1</td><td>554</td><td>558</td><td>-4</td><td> 740</td><td> 728</td><td> 12</td><td>UA</td><td>1696</td><td>N39463</td><td>EWR</td><td>ORD</td><td>150</td><td> 719</td><td>5</td><td>58</td><td>2013-01-01 05:00:00</td></tr>\n",
              "</tbody>\n",
              "</table>\n"
            ]
          },
          "metadata": {
            "tags": []
          }
        }
      ]
    },
    {
      "cell_type": "code",
      "metadata": {
        "colab": {
          "base_uri": "https://localhost:8080/",
          "height": 697
        },
        "id": "mwGMwGvszAl2",
        "outputId": "f5c6ce95-ed6f-4f06-e6db-d11600bf4294"
      },
      "source": [
        "flights %>% summary()"
      ],
      "execution_count": 12,
      "outputs": [
        {
          "output_type": "display_data",
          "data": {
            "text/plain": [
              "      year          month             day           dep_time    sched_dep_time\n",
              " Min.   :2013   Min.   : 1.000   Min.   : 1.00   Min.   :   1   Min.   : 106  \n",
              " 1st Qu.:2013   1st Qu.: 4.000   1st Qu.: 8.00   1st Qu.: 907   1st Qu.: 906  \n",
              " Median :2013   Median : 7.000   Median :16.00   Median :1401   Median :1359  \n",
              " Mean   :2013   Mean   : 6.549   Mean   :15.71   Mean   :1349   Mean   :1344  \n",
              " 3rd Qu.:2013   3rd Qu.:10.000   3rd Qu.:23.00   3rd Qu.:1744   3rd Qu.:1729  \n",
              " Max.   :2013   Max.   :12.000   Max.   :31.00   Max.   :2400   Max.   :2359  \n",
              "                                                 NA's   :8255                 \n",
              "   dep_delay          arr_time    sched_arr_time   arr_delay       \n",
              " Min.   : -43.00   Min.   :   1   Min.   :   1   Min.   : -86.000  \n",
              " 1st Qu.:  -5.00   1st Qu.:1104   1st Qu.:1124   1st Qu.: -17.000  \n",
              " Median :  -2.00   Median :1535   Median :1556   Median :  -5.000  \n",
              " Mean   :  12.64   Mean   :1502   Mean   :1536   Mean   :   6.895  \n",
              " 3rd Qu.:  11.00   3rd Qu.:1940   3rd Qu.:1945   3rd Qu.:  14.000  \n",
              " Max.   :1301.00   Max.   :2400   Max.   :2359   Max.   :1272.000  \n",
              " NA's   :8255      NA's   :8713                  NA's   :9430      \n",
              "   carrier              flight       tailnum             origin         \n",
              " Length:336776      Min.   :   1   Length:336776      Length:336776     \n",
              " Class :character   1st Qu.: 553   Class :character   Class :character  \n",
              " Mode  :character   Median :1496   Mode  :character   Mode  :character  \n",
              "                    Mean   :1972                                        \n",
              "                    3rd Qu.:3465                                        \n",
              "                    Max.   :8500                                        \n",
              "                                                                        \n",
              "     dest              air_time        distance         hour      \n",
              " Length:336776      Min.   : 20.0   Min.   :  17   Min.   : 1.00  \n",
              " Class :character   1st Qu.: 82.0   1st Qu.: 502   1st Qu.: 9.00  \n",
              " Mode  :character   Median :129.0   Median : 872   Median :13.00  \n",
              "                    Mean   :150.7   Mean   :1040   Mean   :13.18  \n",
              "                    3rd Qu.:192.0   3rd Qu.:1389   3rd Qu.:17.00  \n",
              "                    Max.   :695.0   Max.   :4983   Max.   :23.00  \n",
              "                    NA's   :9430                                  \n",
              "     minute        time_hour                  \n",
              " Min.   : 0.00   Min.   :2013-01-01 05:00:00  \n",
              " 1st Qu.: 8.00   1st Qu.:2013-04-04 13:00:00  \n",
              " Median :29.00   Median :2013-07-03 10:00:00  \n",
              " Mean   :26.23   Mean   :2013-07-03 05:22:54  \n",
              " 3rd Qu.:44.00   3rd Qu.:2013-10-01 07:00:00  \n",
              " Max.   :59.00   Max.   :2013-12-31 23:00:00  \n",
              "                                              "
            ]
          },
          "metadata": {
            "tags": []
          }
        }
      ]
    },
    {
      "cell_type": "markdown",
      "metadata": {
        "id": "KjOGQUPJ4BVK"
      },
      "source": [
        "## dplyr 패키지 써보기"
      ]
    },
    {
      "cell_type": "markdown",
      "metadata": {
        "id": "tXo-EMFs7p1O"
      },
      "source": [
        "#### Filter 함수"
      ]
    },
    {
      "cell_type": "code",
      "metadata": {
        "colab": {
          "base_uri": "https://localhost:8080/",
          "height": 283
        },
        "id": "iRZgFGB_0DOp",
        "outputId": "090fa824-f761-4a54-ee2d-f8cb3909203b"
      },
      "source": [
        "# 1월 데이터만 뽑아보기\n",
        "\n",
        "jan <- filter(flights, month == 1, day == 1)\n",
        "\n",
        "head(jan)\n"
      ],
      "execution_count": 18,
      "outputs": [
        {
          "output_type": "display_data",
          "data": {
            "text/plain": [
              "  year month day dep_time sched_dep_time dep_delay arr_time sched_arr_time\n",
              "1 2013 1     1   517      515             2         830      819          \n",
              "2 2013 1     1   533      529             4         850      830          \n",
              "3 2013 1     1   542      540             2         923      850          \n",
              "4 2013 1     1   544      545            -1        1004     1022          \n",
              "5 2013 1     1   554      600            -6         812      837          \n",
              "6 2013 1     1   554      558            -4         740      728          \n",
              "  arr_delay carrier flight tailnum origin dest air_time distance hour minute\n",
              "1  11       UA      1545   N14228  EWR    IAH  227      1400     5    15    \n",
              "2  20       UA      1714   N24211  LGA    IAH  227      1416     5    29    \n",
              "3  33       AA      1141   N619AA  JFK    MIA  160      1089     5    40    \n",
              "4 -18       B6       725   N804JB  JFK    BQN  183      1576     5    45    \n",
              "5 -25       DL       461   N668DN  LGA    ATL  116       762     6     0    \n",
              "6  12       UA      1696   N39463  EWR    ORD  150       719     5    58    \n",
              "  time_hour          \n",
              "1 2013-01-01 05:00:00\n",
              "2 2013-01-01 05:00:00\n",
              "3 2013-01-01 05:00:00\n",
              "4 2013-01-01 05:00:00\n",
              "5 2013-01-01 06:00:00\n",
              "6 2013-01-01 05:00:00"
            ],
            "text/latex": "A tibble: 6 × 19\n\\begin{tabular}{lllllllllllllllllll}\n year & month & day & dep\\_time & sched\\_dep\\_time & dep\\_delay & arr\\_time & sched\\_arr\\_time & arr\\_delay & carrier & flight & tailnum & origin & dest & air\\_time & distance & hour & minute & time\\_hour\\\\\n <int> & <int> & <int> & <int> & <int> & <dbl> & <int> & <int> & <dbl> & <chr> & <int> & <chr> & <chr> & <chr> & <dbl> & <dbl> & <dbl> & <dbl> & <dttm>\\\\\n\\hline\n\t 2013 & 1 & 1 & 517 & 515 &  2 &  830 &  819 &  11 & UA & 1545 & N14228 & EWR & IAH & 227 & 1400 & 5 & 15 & 2013-01-01 05:00:00\\\\\n\t 2013 & 1 & 1 & 533 & 529 &  4 &  850 &  830 &  20 & UA & 1714 & N24211 & LGA & IAH & 227 & 1416 & 5 & 29 & 2013-01-01 05:00:00\\\\\n\t 2013 & 1 & 1 & 542 & 540 &  2 &  923 &  850 &  33 & AA & 1141 & N619AA & JFK & MIA & 160 & 1089 & 5 & 40 & 2013-01-01 05:00:00\\\\\n\t 2013 & 1 & 1 & 544 & 545 & -1 & 1004 & 1022 & -18 & B6 &  725 & N804JB & JFK & BQN & 183 & 1576 & 5 & 45 & 2013-01-01 05:00:00\\\\\n\t 2013 & 1 & 1 & 554 & 600 & -6 &  812 &  837 & -25 & DL &  461 & N668DN & LGA & ATL & 116 &  762 & 6 &  0 & 2013-01-01 06:00:00\\\\\n\t 2013 & 1 & 1 & 554 & 558 & -4 &  740 &  728 &  12 & UA & 1696 & N39463 & EWR & ORD & 150 &  719 & 5 & 58 & 2013-01-01 05:00:00\\\\\n\\end{tabular}\n",
            "text/markdown": "\nA tibble: 6 × 19\n\n| year &lt;int&gt; | month &lt;int&gt; | day &lt;int&gt; | dep_time &lt;int&gt; | sched_dep_time &lt;int&gt; | dep_delay &lt;dbl&gt; | arr_time &lt;int&gt; | sched_arr_time &lt;int&gt; | arr_delay &lt;dbl&gt; | carrier &lt;chr&gt; | flight &lt;int&gt; | tailnum &lt;chr&gt; | origin &lt;chr&gt; | dest &lt;chr&gt; | air_time &lt;dbl&gt; | distance &lt;dbl&gt; | hour &lt;dbl&gt; | minute &lt;dbl&gt; | time_hour &lt;dttm&gt; |\n|---|---|---|---|---|---|---|---|---|---|---|---|---|---|---|---|---|---|---|\n| 2013 | 1 | 1 | 517 | 515 |  2 |  830 |  819 |  11 | UA | 1545 | N14228 | EWR | IAH | 227 | 1400 | 5 | 15 | 2013-01-01 05:00:00 |\n| 2013 | 1 | 1 | 533 | 529 |  4 |  850 |  830 |  20 | UA | 1714 | N24211 | LGA | IAH | 227 | 1416 | 5 | 29 | 2013-01-01 05:00:00 |\n| 2013 | 1 | 1 | 542 | 540 |  2 |  923 |  850 |  33 | AA | 1141 | N619AA | JFK | MIA | 160 | 1089 | 5 | 40 | 2013-01-01 05:00:00 |\n| 2013 | 1 | 1 | 544 | 545 | -1 | 1004 | 1022 | -18 | B6 |  725 | N804JB | JFK | BQN | 183 | 1576 | 5 | 45 | 2013-01-01 05:00:00 |\n| 2013 | 1 | 1 | 554 | 600 | -6 |  812 |  837 | -25 | DL |  461 | N668DN | LGA | ATL | 116 |  762 | 6 |  0 | 2013-01-01 06:00:00 |\n| 2013 | 1 | 1 | 554 | 558 | -4 |  740 |  728 |  12 | UA | 1696 | N39463 | EWR | ORD | 150 |  719 | 5 | 58 | 2013-01-01 05:00:00 |\n\n",
            "text/html": [
              "<table class=\"dataframe\">\n",
              "<caption>A tibble: 6 × 19</caption>\n",
              "<thead>\n",
              "\t<tr><th scope=col>year</th><th scope=col>month</th><th scope=col>day</th><th scope=col>dep_time</th><th scope=col>sched_dep_time</th><th scope=col>dep_delay</th><th scope=col>arr_time</th><th scope=col>sched_arr_time</th><th scope=col>arr_delay</th><th scope=col>carrier</th><th scope=col>flight</th><th scope=col>tailnum</th><th scope=col>origin</th><th scope=col>dest</th><th scope=col>air_time</th><th scope=col>distance</th><th scope=col>hour</th><th scope=col>minute</th><th scope=col>time_hour</th></tr>\n",
              "\t<tr><th scope=col>&lt;int&gt;</th><th scope=col>&lt;int&gt;</th><th scope=col>&lt;int&gt;</th><th scope=col>&lt;int&gt;</th><th scope=col>&lt;int&gt;</th><th scope=col>&lt;dbl&gt;</th><th scope=col>&lt;int&gt;</th><th scope=col>&lt;int&gt;</th><th scope=col>&lt;dbl&gt;</th><th scope=col>&lt;chr&gt;</th><th scope=col>&lt;int&gt;</th><th scope=col>&lt;chr&gt;</th><th scope=col>&lt;chr&gt;</th><th scope=col>&lt;chr&gt;</th><th scope=col>&lt;dbl&gt;</th><th scope=col>&lt;dbl&gt;</th><th scope=col>&lt;dbl&gt;</th><th scope=col>&lt;dbl&gt;</th><th scope=col>&lt;dttm&gt;</th></tr>\n",
              "</thead>\n",
              "<tbody>\n",
              "\t<tr><td>2013</td><td>1</td><td>1</td><td>517</td><td>515</td><td> 2</td><td> 830</td><td> 819</td><td> 11</td><td>UA</td><td>1545</td><td>N14228</td><td>EWR</td><td>IAH</td><td>227</td><td>1400</td><td>5</td><td>15</td><td>2013-01-01 05:00:00</td></tr>\n",
              "\t<tr><td>2013</td><td>1</td><td>1</td><td>533</td><td>529</td><td> 4</td><td> 850</td><td> 830</td><td> 20</td><td>UA</td><td>1714</td><td>N24211</td><td>LGA</td><td>IAH</td><td>227</td><td>1416</td><td>5</td><td>29</td><td>2013-01-01 05:00:00</td></tr>\n",
              "\t<tr><td>2013</td><td>1</td><td>1</td><td>542</td><td>540</td><td> 2</td><td> 923</td><td> 850</td><td> 33</td><td>AA</td><td>1141</td><td>N619AA</td><td>JFK</td><td>MIA</td><td>160</td><td>1089</td><td>5</td><td>40</td><td>2013-01-01 05:00:00</td></tr>\n",
              "\t<tr><td>2013</td><td>1</td><td>1</td><td>544</td><td>545</td><td>-1</td><td>1004</td><td>1022</td><td>-18</td><td>B6</td><td> 725</td><td>N804JB</td><td>JFK</td><td>BQN</td><td>183</td><td>1576</td><td>5</td><td>45</td><td>2013-01-01 05:00:00</td></tr>\n",
              "\t<tr><td>2013</td><td>1</td><td>1</td><td>554</td><td>600</td><td>-6</td><td> 812</td><td> 837</td><td>-25</td><td>DL</td><td> 461</td><td>N668DN</td><td>LGA</td><td>ATL</td><td>116</td><td> 762</td><td>6</td><td> 0</td><td>2013-01-01 06:00:00</td></tr>\n",
              "\t<tr><td>2013</td><td>1</td><td>1</td><td>554</td><td>558</td><td>-4</td><td> 740</td><td> 728</td><td> 12</td><td>UA</td><td>1696</td><td>N39463</td><td>EWR</td><td>ORD</td><td>150</td><td> 719</td><td>5</td><td>58</td><td>2013-01-01 05:00:00</td></tr>\n",
              "</tbody>\n",
              "</table>\n"
            ]
          },
          "metadata": {
            "tags": []
          }
        }
      ]
    },
    {
      "cell_type": "code",
      "metadata": {
        "colab": {
          "base_uri": "https://localhost:8080/",
          "height": 283
        },
        "id": "-sfiJgLk-4KE",
        "outputId": "a6eab302-cb85-43cb-96d5-696c4551336c"
      },
      "source": [
        "# 출발 시간, 도착 시간 둘 중 하나가 2시간 이상 지연된 항공편을 모두 찾기\n",
        "\n",
        "over_two <- filter(flights, ((flights$arr_delay > 120) | (flights$dep_delay > 120)))\n",
        "head(over_two)"
      ],
      "execution_count": 20,
      "outputs": [
        {
          "output_type": "display_data",
          "data": {
            "text/plain": [
              "  year month day dep_time sched_dep_time dep_delay arr_time sched_arr_time\n",
              "1 2013 1     1    811      630           101       1047      830          \n",
              "2 2013 1     1    848     1835           853       1001     1950          \n",
              "3 2013 1     1    957      733           144       1056      853          \n",
              "4 2013 1     1   1114      900           134       1447     1222          \n",
              "5 2013 1     1   1505     1310           115       1638     1431          \n",
              "6 2013 1     1   1525     1340           105       1831     1626          \n",
              "  arr_delay carrier flight tailnum origin dest air_time distance hour minute\n",
              "1 137       MQ      4576   N531MQ  LGA    CLT  118       544      6   30    \n",
              "2 851       MQ      3944   N942MQ  JFK    BWI   41       184     18   35    \n",
              "3 123       UA       856   N534UA  EWR    BOS   37       200      7   33    \n",
              "4 145       UA      1086   N76502  LGA    IAH  248      1416      9    0    \n",
              "5 127       EV      4497   N17984  EWR    RIC   63       277     13   10    \n",
              "6 125       B6       525   N231JB  EWR    MCO  152       937     13   40    \n",
              "  time_hour          \n",
              "1 2013-01-01 06:00:00\n",
              "2 2013-01-01 18:00:00\n",
              "3 2013-01-01 07:00:00\n",
              "4 2013-01-01 09:00:00\n",
              "5 2013-01-01 13:00:00\n",
              "6 2013-01-01 13:00:00"
            ],
            "text/latex": "A tibble: 6 × 19\n\\begin{tabular}{lllllllllllllllllll}\n year & month & day & dep\\_time & sched\\_dep\\_time & dep\\_delay & arr\\_time & sched\\_arr\\_time & arr\\_delay & carrier & flight & tailnum & origin & dest & air\\_time & distance & hour & minute & time\\_hour\\\\\n <int> & <int> & <int> & <int> & <int> & <dbl> & <int> & <int> & <dbl> & <chr> & <int> & <chr> & <chr> & <chr> & <dbl> & <dbl> & <dbl> & <dbl> & <dttm>\\\\\n\\hline\n\t 2013 & 1 & 1 &  811 &  630 & 101 & 1047 &  830 & 137 & MQ & 4576 & N531MQ & LGA & CLT & 118 &  544 &  6 & 30 & 2013-01-01 06:00:00\\\\\n\t 2013 & 1 & 1 &  848 & 1835 & 853 & 1001 & 1950 & 851 & MQ & 3944 & N942MQ & JFK & BWI &  41 &  184 & 18 & 35 & 2013-01-01 18:00:00\\\\\n\t 2013 & 1 & 1 &  957 &  733 & 144 & 1056 &  853 & 123 & UA &  856 & N534UA & EWR & BOS &  37 &  200 &  7 & 33 & 2013-01-01 07:00:00\\\\\n\t 2013 & 1 & 1 & 1114 &  900 & 134 & 1447 & 1222 & 145 & UA & 1086 & N76502 & LGA & IAH & 248 & 1416 &  9 &  0 & 2013-01-01 09:00:00\\\\\n\t 2013 & 1 & 1 & 1505 & 1310 & 115 & 1638 & 1431 & 127 & EV & 4497 & N17984 & EWR & RIC &  63 &  277 & 13 & 10 & 2013-01-01 13:00:00\\\\\n\t 2013 & 1 & 1 & 1525 & 1340 & 105 & 1831 & 1626 & 125 & B6 &  525 & N231JB & EWR & MCO & 152 &  937 & 13 & 40 & 2013-01-01 13:00:00\\\\\n\\end{tabular}\n",
            "text/markdown": "\nA tibble: 6 × 19\n\n| year &lt;int&gt; | month &lt;int&gt; | day &lt;int&gt; | dep_time &lt;int&gt; | sched_dep_time &lt;int&gt; | dep_delay &lt;dbl&gt; | arr_time &lt;int&gt; | sched_arr_time &lt;int&gt; | arr_delay &lt;dbl&gt; | carrier &lt;chr&gt; | flight &lt;int&gt; | tailnum &lt;chr&gt; | origin &lt;chr&gt; | dest &lt;chr&gt; | air_time &lt;dbl&gt; | distance &lt;dbl&gt; | hour &lt;dbl&gt; | minute &lt;dbl&gt; | time_hour &lt;dttm&gt; |\n|---|---|---|---|---|---|---|---|---|---|---|---|---|---|---|---|---|---|---|\n| 2013 | 1 | 1 |  811 |  630 | 101 | 1047 |  830 | 137 | MQ | 4576 | N531MQ | LGA | CLT | 118 |  544 |  6 | 30 | 2013-01-01 06:00:00 |\n| 2013 | 1 | 1 |  848 | 1835 | 853 | 1001 | 1950 | 851 | MQ | 3944 | N942MQ | JFK | BWI |  41 |  184 | 18 | 35 | 2013-01-01 18:00:00 |\n| 2013 | 1 | 1 |  957 |  733 | 144 | 1056 |  853 | 123 | UA |  856 | N534UA | EWR | BOS |  37 |  200 |  7 | 33 | 2013-01-01 07:00:00 |\n| 2013 | 1 | 1 | 1114 |  900 | 134 | 1447 | 1222 | 145 | UA | 1086 | N76502 | LGA | IAH | 248 | 1416 |  9 |  0 | 2013-01-01 09:00:00 |\n| 2013 | 1 | 1 | 1505 | 1310 | 115 | 1638 | 1431 | 127 | EV | 4497 | N17984 | EWR | RIC |  63 |  277 | 13 | 10 | 2013-01-01 13:00:00 |\n| 2013 | 1 | 1 | 1525 | 1340 | 105 | 1831 | 1626 | 125 | B6 |  525 | N231JB | EWR | MCO | 152 |  937 | 13 | 40 | 2013-01-01 13:00:00 |\n\n",
            "text/html": [
              "<table class=\"dataframe\">\n",
              "<caption>A tibble: 6 × 19</caption>\n",
              "<thead>\n",
              "\t<tr><th scope=col>year</th><th scope=col>month</th><th scope=col>day</th><th scope=col>dep_time</th><th scope=col>sched_dep_time</th><th scope=col>dep_delay</th><th scope=col>arr_time</th><th scope=col>sched_arr_time</th><th scope=col>arr_delay</th><th scope=col>carrier</th><th scope=col>flight</th><th scope=col>tailnum</th><th scope=col>origin</th><th scope=col>dest</th><th scope=col>air_time</th><th scope=col>distance</th><th scope=col>hour</th><th scope=col>minute</th><th scope=col>time_hour</th></tr>\n",
              "\t<tr><th scope=col>&lt;int&gt;</th><th scope=col>&lt;int&gt;</th><th scope=col>&lt;int&gt;</th><th scope=col>&lt;int&gt;</th><th scope=col>&lt;int&gt;</th><th scope=col>&lt;dbl&gt;</th><th scope=col>&lt;int&gt;</th><th scope=col>&lt;int&gt;</th><th scope=col>&lt;dbl&gt;</th><th scope=col>&lt;chr&gt;</th><th scope=col>&lt;int&gt;</th><th scope=col>&lt;chr&gt;</th><th scope=col>&lt;chr&gt;</th><th scope=col>&lt;chr&gt;</th><th scope=col>&lt;dbl&gt;</th><th scope=col>&lt;dbl&gt;</th><th scope=col>&lt;dbl&gt;</th><th scope=col>&lt;dbl&gt;</th><th scope=col>&lt;dttm&gt;</th></tr>\n",
              "</thead>\n",
              "<tbody>\n",
              "\t<tr><td>2013</td><td>1</td><td>1</td><td> 811</td><td> 630</td><td>101</td><td>1047</td><td> 830</td><td>137</td><td>MQ</td><td>4576</td><td>N531MQ</td><td>LGA</td><td>CLT</td><td>118</td><td> 544</td><td> 6</td><td>30</td><td>2013-01-01 06:00:00</td></tr>\n",
              "\t<tr><td>2013</td><td>1</td><td>1</td><td> 848</td><td>1835</td><td>853</td><td>1001</td><td>1950</td><td>851</td><td>MQ</td><td>3944</td><td>N942MQ</td><td>JFK</td><td>BWI</td><td> 41</td><td> 184</td><td>18</td><td>35</td><td>2013-01-01 18:00:00</td></tr>\n",
              "\t<tr><td>2013</td><td>1</td><td>1</td><td> 957</td><td> 733</td><td>144</td><td>1056</td><td> 853</td><td>123</td><td>UA</td><td> 856</td><td>N534UA</td><td>EWR</td><td>BOS</td><td> 37</td><td> 200</td><td> 7</td><td>33</td><td>2013-01-01 07:00:00</td></tr>\n",
              "\t<tr><td>2013</td><td>1</td><td>1</td><td>1114</td><td> 900</td><td>134</td><td>1447</td><td>1222</td><td>145</td><td>UA</td><td>1086</td><td>N76502</td><td>LGA</td><td>IAH</td><td>248</td><td>1416</td><td> 9</td><td> 0</td><td>2013-01-01 09:00:00</td></tr>\n",
              "\t<tr><td>2013</td><td>1</td><td>1</td><td>1505</td><td>1310</td><td>115</td><td>1638</td><td>1431</td><td>127</td><td>EV</td><td>4497</td><td>N17984</td><td>EWR</td><td>RIC</td><td> 63</td><td> 277</td><td>13</td><td>10</td><td>2013-01-01 13:00:00</td></tr>\n",
              "\t<tr><td>2013</td><td>1</td><td>1</td><td>1525</td><td>1340</td><td>105</td><td>1831</td><td>1626</td><td>125</td><td>B6</td><td> 525</td><td>N231JB</td><td>EWR</td><td>MCO</td><td>152</td><td> 937</td><td>13</td><td>40</td><td>2013-01-01 13:00:00</td></tr>\n",
              "</tbody>\n",
              "</table>\n"
            ]
          },
          "metadata": {
            "tags": []
          }
        }
      ]
    },
    {
      "cell_type": "code",
      "metadata": {
        "id": "5JQR--OUC-fi"
      },
      "source": [
        ""
      ],
      "execution_count": null,
      "outputs": []
    },
    {
      "cell_type": "markdown",
      "metadata": {
        "id": "0auVunZLDOrS"
      },
      "source": [
        "#### Select 함수"
      ]
    },
    {
      "cell_type": "code",
      "metadata": {
        "colab": {
          "base_uri": "https://localhost:8080/",
          "height": 283
        },
        "id": "-xscqNa6DSbk",
        "outputId": "37814c11-7998-454d-c290-8c17fdd8fb1c"
      },
      "source": [
        "# 날짜 정보를 담은 열만 뽑기 (year, month, day)\n",
        "\n",
        "selected <- select(flights, year, month, day)\n",
        "\n",
        "head(selected)"
      ],
      "execution_count": 21,
      "outputs": [
        {
          "output_type": "display_data",
          "data": {
            "text/plain": [
              "  year month day\n",
              "1 2013 1     1  \n",
              "2 2013 1     1  \n",
              "3 2013 1     1  \n",
              "4 2013 1     1  \n",
              "5 2013 1     1  \n",
              "6 2013 1     1  "
            ],
            "text/latex": "A tibble: 6 × 3\n\\begin{tabular}{lll}\n year & month & day\\\\\n <int> & <int> & <int>\\\\\n\\hline\n\t 2013 & 1 & 1\\\\\n\t 2013 & 1 & 1\\\\\n\t 2013 & 1 & 1\\\\\n\t 2013 & 1 & 1\\\\\n\t 2013 & 1 & 1\\\\\n\t 2013 & 1 & 1\\\\\n\\end{tabular}\n",
            "text/markdown": "\nA tibble: 6 × 3\n\n| year &lt;int&gt; | month &lt;int&gt; | day &lt;int&gt; |\n|---|---|---|\n| 2013 | 1 | 1 |\n| 2013 | 1 | 1 |\n| 2013 | 1 | 1 |\n| 2013 | 1 | 1 |\n| 2013 | 1 | 1 |\n| 2013 | 1 | 1 |\n\n",
            "text/html": [
              "<table class=\"dataframe\">\n",
              "<caption>A tibble: 6 × 3</caption>\n",
              "<thead>\n",
              "\t<tr><th scope=col>year</th><th scope=col>month</th><th scope=col>day</th></tr>\n",
              "\t<tr><th scope=col>&lt;int&gt;</th><th scope=col>&lt;int&gt;</th><th scope=col>&lt;int&gt;</th></tr>\n",
              "</thead>\n",
              "<tbody>\n",
              "\t<tr><td>2013</td><td>1</td><td>1</td></tr>\n",
              "\t<tr><td>2013</td><td>1</td><td>1</td></tr>\n",
              "\t<tr><td>2013</td><td>1</td><td>1</td></tr>\n",
              "\t<tr><td>2013</td><td>1</td><td>1</td></tr>\n",
              "\t<tr><td>2013</td><td>1</td><td>1</td></tr>\n",
              "\t<tr><td>2013</td><td>1</td><td>1</td></tr>\n",
              "</tbody>\n",
              "</table>\n"
            ]
          },
          "metadata": {
            "tags": []
          }
        }
      ]
    },
    {
      "cell_type": "code",
      "metadata": {
        "id": "3bDAbhXXKd6A"
      },
      "source": [
        ""
      ],
      "execution_count": null,
      "outputs": []
    },
    {
      "cell_type": "markdown",
      "metadata": {
        "id": "t1Bi-Hx8Hwu5"
      },
      "source": [
        "#### 파이프로 여러 작업 결합하기"
      ]
    },
    {
      "cell_type": "code",
      "metadata": {
        "colab": {
          "base_uri": "https://localhost:8080/",
          "height": 357
        },
        "id": "qzN8nbCyDqhe",
        "outputId": "c07c8029-eba6-4dda-e8f4-a468dc87a523"
      },
      "source": [
        "# 1. arr_delay, dep_delay, air_time 칼럼만 추출해 gain, hours, gain_per_hour 칼럼 새로 만들기\n",
        "\n",
        "flights %>%\n",
        "  select(arr_delay, dep_delay, air_time) %>%\n",
        "  mutate(flights, gain = arr_delay - dep_delay, hours = air_time / 60, gain_per_hour = gain / hours) %>%\n",
        "  head(5)\n"
      ],
      "execution_count": 30,
      "outputs": [
        {
          "output_type": "display_data",
          "data": {
            "text/plain": [
              "  arr_delay dep_delay air_time year month day dep_time sched_dep_time arr_time\n",
              "1  11        2        227      2013 1     1   517      515             830    \n",
              "2  20        4        227      2013 1     1   533      529             850    \n",
              "3  33        2        160      2013 1     1   542      540             923    \n",
              "4 -18       -1        183      2013 1     1   544      545            1004    \n",
              "5 -25       -6        116      2013 1     1   554      600             812    \n",
              "  sched_arr_time ⋯ tailnum origin dest distance hour minute time_hour          \n",
              "1  819           ⋯ N14228  EWR    IAH  1400     5    15     2013-01-01 05:00:00\n",
              "2  830           ⋯ N24211  LGA    IAH  1416     5    29     2013-01-01 05:00:00\n",
              "3  850           ⋯ N619AA  JFK    MIA  1089     5    40     2013-01-01 05:00:00\n",
              "4 1022           ⋯ N804JB  JFK    BQN  1576     5    45     2013-01-01 05:00:00\n",
              "5  837           ⋯ N668DN  LGA    ATL   762     6     0     2013-01-01 06:00:00\n",
              "  gain hours    gain_per_hour\n",
              "1   9  3.783333  2.378855    \n",
              "2  16  3.783333  4.229075    \n",
              "3  31  2.666667 11.625000    \n",
              "4 -17  3.050000 -5.573770    \n",
              "5 -19  1.933333 -9.827586    "
            ],
            "text/latex": "A tibble: 5 × 22\n\\begin{tabular}{lllllllllllllllllllll}\n arr\\_delay & dep\\_delay & air\\_time & year & month & day & dep\\_time & sched\\_dep\\_time & arr\\_time & sched\\_arr\\_time & ⋯ & tailnum & origin & dest & distance & hour & minute & time\\_hour & gain & hours & gain\\_per\\_hour\\\\\n <dbl> & <dbl> & <dbl> & <int> & <int> & <int> & <int> & <int> & <int> & <int> & ⋯ & <chr> & <chr> & <chr> & <dbl> & <dbl> & <dbl> & <dttm> & <dbl> & <dbl> & <dbl>\\\\\n\\hline\n\t  11 &  2 & 227 & 2013 & 1 & 1 & 517 & 515 &  830 &  819 & ⋯ & N14228 & EWR & IAH & 1400 & 5 & 15 & 2013-01-01 05:00:00 &   9 & 3.783333 &  2.378855\\\\\n\t  20 &  4 & 227 & 2013 & 1 & 1 & 533 & 529 &  850 &  830 & ⋯ & N24211 & LGA & IAH & 1416 & 5 & 29 & 2013-01-01 05:00:00 &  16 & 3.783333 &  4.229075\\\\\n\t  33 &  2 & 160 & 2013 & 1 & 1 & 542 & 540 &  923 &  850 & ⋯ & N619AA & JFK & MIA & 1089 & 5 & 40 & 2013-01-01 05:00:00 &  31 & 2.666667 & 11.625000\\\\\n\t -18 & -1 & 183 & 2013 & 1 & 1 & 544 & 545 & 1004 & 1022 & ⋯ & N804JB & JFK & BQN & 1576 & 5 & 45 & 2013-01-01 05:00:00 & -17 & 3.050000 & -5.573770\\\\\n\t -25 & -6 & 116 & 2013 & 1 & 1 & 554 & 600 &  812 &  837 & ⋯ & N668DN & LGA & ATL &  762 & 6 &  0 & 2013-01-01 06:00:00 & -19 & 1.933333 & -9.827586\\\\\n\\end{tabular}\n",
            "text/markdown": "\nA tibble: 5 × 22\n\n| arr_delay &lt;dbl&gt; | dep_delay &lt;dbl&gt; | air_time &lt;dbl&gt; | year &lt;int&gt; | month &lt;int&gt; | day &lt;int&gt; | dep_time &lt;int&gt; | sched_dep_time &lt;int&gt; | arr_time &lt;int&gt; | sched_arr_time &lt;int&gt; | ⋯ ⋯ | tailnum &lt;chr&gt; | origin &lt;chr&gt; | dest &lt;chr&gt; | distance &lt;dbl&gt; | hour &lt;dbl&gt; | minute &lt;dbl&gt; | time_hour &lt;dttm&gt; | gain &lt;dbl&gt; | hours &lt;dbl&gt; | gain_per_hour &lt;dbl&gt; |\n|---|---|---|---|---|---|---|---|---|---|---|---|---|---|---|---|---|---|---|---|---|\n|  11 |  2 | 227 | 2013 | 1 | 1 | 517 | 515 |  830 |  819 | ⋯ | N14228 | EWR | IAH | 1400 | 5 | 15 | 2013-01-01 05:00:00 |   9 | 3.783333 |  2.378855 |\n|  20 |  4 | 227 | 2013 | 1 | 1 | 533 | 529 |  850 |  830 | ⋯ | N24211 | LGA | IAH | 1416 | 5 | 29 | 2013-01-01 05:00:00 |  16 | 3.783333 |  4.229075 |\n|  33 |  2 | 160 | 2013 | 1 | 1 | 542 | 540 |  923 |  850 | ⋯ | N619AA | JFK | MIA | 1089 | 5 | 40 | 2013-01-01 05:00:00 |  31 | 2.666667 | 11.625000 |\n| -18 | -1 | 183 | 2013 | 1 | 1 | 544 | 545 | 1004 | 1022 | ⋯ | N804JB | JFK | BQN | 1576 | 5 | 45 | 2013-01-01 05:00:00 | -17 | 3.050000 | -5.573770 |\n| -25 | -6 | 116 | 2013 | 1 | 1 | 554 | 600 |  812 |  837 | ⋯ | N668DN | LGA | ATL |  762 | 6 |  0 | 2013-01-01 06:00:00 | -19 | 1.933333 | -9.827586 |\n\n",
            "text/html": [
              "<table class=\"dataframe\">\n",
              "<caption>A tibble: 5 × 22</caption>\n",
              "<thead>\n",
              "\t<tr><th scope=col>arr_delay</th><th scope=col>dep_delay</th><th scope=col>air_time</th><th scope=col>year</th><th scope=col>month</th><th scope=col>day</th><th scope=col>dep_time</th><th scope=col>sched_dep_time</th><th scope=col>arr_time</th><th scope=col>sched_arr_time</th><th scope=col>⋯</th><th scope=col>tailnum</th><th scope=col>origin</th><th scope=col>dest</th><th scope=col>distance</th><th scope=col>hour</th><th scope=col>minute</th><th scope=col>time_hour</th><th scope=col>gain</th><th scope=col>hours</th><th scope=col>gain_per_hour</th></tr>\n",
              "\t<tr><th scope=col>&lt;dbl&gt;</th><th scope=col>&lt;dbl&gt;</th><th scope=col>&lt;dbl&gt;</th><th scope=col>&lt;int&gt;</th><th scope=col>&lt;int&gt;</th><th scope=col>&lt;int&gt;</th><th scope=col>&lt;int&gt;</th><th scope=col>&lt;int&gt;</th><th scope=col>&lt;int&gt;</th><th scope=col>&lt;int&gt;</th><th scope=col>⋯</th><th scope=col>&lt;chr&gt;</th><th scope=col>&lt;chr&gt;</th><th scope=col>&lt;chr&gt;</th><th scope=col>&lt;dbl&gt;</th><th scope=col>&lt;dbl&gt;</th><th scope=col>&lt;dbl&gt;</th><th scope=col>&lt;dttm&gt;</th><th scope=col>&lt;dbl&gt;</th><th scope=col>&lt;dbl&gt;</th><th scope=col>&lt;dbl&gt;</th></tr>\n",
              "</thead>\n",
              "<tbody>\n",
              "\t<tr><td> 11</td><td> 2</td><td>227</td><td>2013</td><td>1</td><td>1</td><td>517</td><td>515</td><td> 830</td><td> 819</td><td>⋯</td><td>N14228</td><td>EWR</td><td>IAH</td><td>1400</td><td>5</td><td>15</td><td>2013-01-01 05:00:00</td><td>  9</td><td>3.783333</td><td> 2.378855</td></tr>\n",
              "\t<tr><td> 20</td><td> 4</td><td>227</td><td>2013</td><td>1</td><td>1</td><td>533</td><td>529</td><td> 850</td><td> 830</td><td>⋯</td><td>N24211</td><td>LGA</td><td>IAH</td><td>1416</td><td>5</td><td>29</td><td>2013-01-01 05:00:00</td><td> 16</td><td>3.783333</td><td> 4.229075</td></tr>\n",
              "\t<tr><td> 33</td><td> 2</td><td>160</td><td>2013</td><td>1</td><td>1</td><td>542</td><td>540</td><td> 923</td><td> 850</td><td>⋯</td><td>N619AA</td><td>JFK</td><td>MIA</td><td>1089</td><td>5</td><td>40</td><td>2013-01-01 05:00:00</td><td> 31</td><td>2.666667</td><td>11.625000</td></tr>\n",
              "\t<tr><td>-18</td><td>-1</td><td>183</td><td>2013</td><td>1</td><td>1</td><td>544</td><td>545</td><td>1004</td><td>1022</td><td>⋯</td><td>N804JB</td><td>JFK</td><td>BQN</td><td>1576</td><td>5</td><td>45</td><td>2013-01-01 05:00:00</td><td>-17</td><td>3.050000</td><td>-5.573770</td></tr>\n",
              "\t<tr><td>-25</td><td>-6</td><td>116</td><td>2013</td><td>1</td><td>1</td><td>554</td><td>600</td><td> 812</td><td> 837</td><td>⋯</td><td>N668DN</td><td>LGA</td><td>ATL</td><td> 762</td><td>6</td><td> 0</td><td>2013-01-01 06:00:00</td><td>-19</td><td>1.933333</td><td>-9.827586</td></tr>\n",
              "</tbody>\n",
              "</table>\n"
            ]
          },
          "metadata": {
            "tags": []
          }
        }
      ]
    },
    {
      "cell_type": "code",
      "metadata": {
        "colab": {
          "base_uri": "https://localhost:8080/",
          "height": 286
        },
        "id": "ThIikv9eHxZK",
        "outputId": "a25a61e1-4c71-4883-be3f-61951bd3cc69"
      },
      "source": [
        "# 2. 날짜별로 출발 지연시간의 평균을 계산해 내림차순 정렬하기\n",
        "\n",
        "flights %>% \n",
        "  group_by(year, month, day) %>%\n",
        "  summarise(delay = mean(dep_delay, na.rm=TRUE)) %>%\n",
        "  arrange(desc(delay)) %>%\n",
        "  head(5)"
      ],
      "execution_count": 31,
      "outputs": [
        {
          "output_type": "stream",
          "text": [
            "`summarise()` has grouped output by 'year', 'month'. You can override using the `.groups` argument.\n",
            "\n"
          ],
          "name": "stderr"
        },
        {
          "output_type": "display_data",
          "data": {
            "text/plain": [
              "  year month day delay   \n",
              "1 2013  3     8  83.53692\n",
              "2 2013  7     1  56.23383\n",
              "3 2013  9     2  53.02955\n",
              "4 2013  7    10  52.86070\n",
              "5 2013 12     5  52.32799"
            ],
            "text/latex": "A grouped\\_df: 5 × 4\n\\begin{tabular}{llll}\n year & month & day & delay\\\\\n <int> & <int> & <int> & <dbl>\\\\\n\\hline\n\t 2013 &  3 &  8 & 83.53692\\\\\n\t 2013 &  7 &  1 & 56.23383\\\\\n\t 2013 &  9 &  2 & 53.02955\\\\\n\t 2013 &  7 & 10 & 52.86070\\\\\n\t 2013 & 12 &  5 & 52.32799\\\\\n\\end{tabular}\n",
            "text/markdown": "\nA grouped_df: 5 × 4\n\n| year &lt;int&gt; | month &lt;int&gt; | day &lt;int&gt; | delay &lt;dbl&gt; |\n|---|---|---|---|\n| 2013 |  3 |  8 | 83.53692 |\n| 2013 |  7 |  1 | 56.23383 |\n| 2013 |  9 |  2 | 53.02955 |\n| 2013 |  7 | 10 | 52.86070 |\n| 2013 | 12 |  5 | 52.32799 |\n\n",
            "text/html": [
              "<table class=\"dataframe\">\n",
              "<caption>A grouped_df: 5 × 4</caption>\n",
              "<thead>\n",
              "\t<tr><th scope=col>year</th><th scope=col>month</th><th scope=col>day</th><th scope=col>delay</th></tr>\n",
              "\t<tr><th scope=col>&lt;int&gt;</th><th scope=col>&lt;int&gt;</th><th scope=col>&lt;int&gt;</th><th scope=col>&lt;dbl&gt;</th></tr>\n",
              "</thead>\n",
              "<tbody>\n",
              "\t<tr><td>2013</td><td> 3</td><td> 8</td><td>83.53692</td></tr>\n",
              "\t<tr><td>2013</td><td> 7</td><td> 1</td><td>56.23383</td></tr>\n",
              "\t<tr><td>2013</td><td> 9</td><td> 2</td><td>53.02955</td></tr>\n",
              "\t<tr><td>2013</td><td> 7</td><td>10</td><td>52.86070</td></tr>\n",
              "\t<tr><td>2013</td><td>12</td><td> 5</td><td>52.32799</td></tr>\n",
              "</tbody>\n",
              "</table>\n"
            ]
          },
          "metadata": {
            "tags": []
          }
        }
      ]
    },
    {
      "cell_type": "code",
      "metadata": {
        "id": "ulaGrFeJI2-f"
      },
      "source": [
        ""
      ],
      "execution_count": null,
      "outputs": []
    },
    {
      "cell_type": "markdown",
      "metadata": {
        "id": "YBmfMYaCLaDJ"
      },
      "source": [
        "## 시각화"
      ]
    },
    {
      "cell_type": "code",
      "metadata": {
        "colab": {
          "base_uri": "https://localhost:8080/",
          "height": 283
        },
        "id": "PlIx9TTELd1G",
        "outputId": "70b7bf60-1b0a-42a3-8ad5-b2ad2dcc56a8"
      },
      "source": [
        "delay <- flights %>%\n",
        "  group_by(dest) %>%\n",
        "  summarize(count = n(), dist = mean(distance, na.rm=TRUE), delay = mean(arr_delay, na.rm=TRUE)) %>%\n",
        "  filter(count > 20)\n",
        "\n",
        "head(delay)"
      ],
      "execution_count": 36,
      "outputs": [
        {
          "output_type": "display_data",
          "data": {
            "text/plain": [
              "  dest count dist      delay    \n",
              "1 ABQ    254 1826.0000  4.381890\n",
              "2 ACK    265  199.0000  4.852273\n",
              "3 ALB    439  143.0000 14.397129\n",
              "4 ATL  17215  757.1082 11.300113\n",
              "5 AUS   2439 1514.2530  6.019909\n",
              "6 AVL    275  583.5818  8.003831"
            ],
            "text/latex": "A tibble: 6 × 4\n\\begin{tabular}{llll}\n dest & count & dist & delay\\\\\n <chr> & <int> & <dbl> & <dbl>\\\\\n\\hline\n\t ABQ &   254 & 1826.0000 &  4.381890\\\\\n\t ACK &   265 &  199.0000 &  4.852273\\\\\n\t ALB &   439 &  143.0000 & 14.397129\\\\\n\t ATL & 17215 &  757.1082 & 11.300113\\\\\n\t AUS &  2439 & 1514.2530 &  6.019909\\\\\n\t AVL &   275 &  583.5818 &  8.003831\\\\\n\\end{tabular}\n",
            "text/markdown": "\nA tibble: 6 × 4\n\n| dest &lt;chr&gt; | count &lt;int&gt; | dist &lt;dbl&gt; | delay &lt;dbl&gt; |\n|---|---|---|---|\n| ABQ |   254 | 1826.0000 |  4.381890 |\n| ACK |   265 |  199.0000 |  4.852273 |\n| ALB |   439 |  143.0000 | 14.397129 |\n| ATL | 17215 |  757.1082 | 11.300113 |\n| AUS |  2439 | 1514.2530 |  6.019909 |\n| AVL |   275 |  583.5818 |  8.003831 |\n\n",
            "text/html": [
              "<table class=\"dataframe\">\n",
              "<caption>A tibble: 6 × 4</caption>\n",
              "<thead>\n",
              "\t<tr><th scope=col>dest</th><th scope=col>count</th><th scope=col>dist</th><th scope=col>delay</th></tr>\n",
              "\t<tr><th scope=col>&lt;chr&gt;</th><th scope=col>&lt;int&gt;</th><th scope=col>&lt;dbl&gt;</th><th scope=col>&lt;dbl&gt;</th></tr>\n",
              "</thead>\n",
              "<tbody>\n",
              "\t<tr><td>ABQ</td><td>  254</td><td>1826.0000</td><td> 4.381890</td></tr>\n",
              "\t<tr><td>ACK</td><td>  265</td><td> 199.0000</td><td> 4.852273</td></tr>\n",
              "\t<tr><td>ALB</td><td>  439</td><td> 143.0000</td><td>14.397129</td></tr>\n",
              "\t<tr><td>ATL</td><td>17215</td><td> 757.1082</td><td>11.300113</td></tr>\n",
              "\t<tr><td>AUS</td><td> 2439</td><td>1514.2530</td><td> 6.019909</td></tr>\n",
              "\t<tr><td>AVL</td><td>  275</td><td> 583.5818</td><td> 8.003831</td></tr>\n",
              "</tbody>\n",
              "</table>\n"
            ]
          },
          "metadata": {
            "tags": []
          }
        }
      ]
    },
    {
      "cell_type": "markdown",
      "metadata": {
        "id": "SUSZD9B9M3oy"
      },
      "source": [
        "ㄴ목적지별 개수(n), 거리의 평균(dist), 도착지연시간의 평균(delay)을 구해 count값이 20 이상인 데이터만 뽑아냈다"
      ]
    },
    {
      "cell_type": "code",
      "metadata": {
        "colab": {
          "base_uri": "https://localhost:8080/",
          "height": 471
        },
        "id": "GBaEh6TTMq-R",
        "outputId": "02e8ddbc-acb1-422d-e2b3-08a15fd3de82"
      },
      "source": [
        "ggplot(data = delay, mapping = aes(x = dist, y = delay)) + geom_point(aes(size = count), alpha = 1/3) + geom_smooth(se=FALSE)"
      ],
      "execution_count": 37,
      "outputs": [
        {
          "output_type": "stream",
          "text": [
            "`geom_smooth()` using method = 'loess' and formula 'y ~ x'\n",
            "\n"
          ],
          "name": "stderr"
        },
        {
          "output_type": "display_data",
          "data": {
            "image/png": "[encoded data removed]",
            "text/plain": [
              "plot without title"
            ]
          },
          "metadata": {
            "tags": [],
            "image/png": {
              "width": 420,
              "height": 420
            }
          }
        }
      ]
    },
    {
      "cell_type": "markdown",
      "metadata": {
        "id": "OSlncOkTNaf0"
      },
      "source": [
        "ㄴ ggplot 패키지를 이용해 거리에 따른 도착지연시간의 평균과 count 수를 시각화했다."
      ]
    },
    {
      "cell_type": "code",
      "metadata": {
        "id": "k734NoMuNZsN"
      },
      "source": [
        ""
      ],
      "execution_count": null,
      "outputs": []
    }
  ]
}