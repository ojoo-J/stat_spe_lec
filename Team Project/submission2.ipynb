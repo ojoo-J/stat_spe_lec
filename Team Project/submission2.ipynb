{
 "cells": [
  {
   "cell_type": "code",
   "execution_count": 30,
   "metadata": {},
   "outputs": [],
   "source": [
    "import warnings\n",
    "warnings.filterwarningsngs('ignore')\n",
    "import pandas as pd\n",
    "import numpy as np\n",
    "import matplotlib.pyplot as plt\n",
    "import seaborn as sns"
   ]
  },
  {
   "cell_type": "code",
   "execution_count": 31,
   "metadata": {},
   "outputs": [
    {
     "data": {
      "text/plain": [
       "((8523, 12), (5681, 11))"
      ]
     },
     "execution_count": 31,
     "metadata": {},
     "output_type": "execute_result"
    }
   ],
   "source": [
    "train=pd.read_csv('./data/train_v9rqX0R.csv')\n",
    "test = pd.read_csv('./data/test_AbJTz2l.csv')\n",
    "train.shape, test.shape"
   ]
  },
  {
   "cell_type": "code",
   "execution_count": 32,
   "metadata": {},
   "outputs": [
    {
     "data": {
      "text/plain": [
       "(14204, 12)"
      ]
     },
     "execution_count": 32,
     "metadata": {},
     "output_type": "execute_result"
    }
   ],
   "source": [
    "df = pd.concat([train, test], axis=0)\n",
    "df.reset_index(drop=True, inplace=True)\n",
    "df.shape"
   ]
  },
  {
   "cell_type": "code",
   "execution_count": 33,
   "metadata": {},
   "outputs": [
    {
     "data": {
      "text/html": [
       "<div>\n",
       "<style scoped>\n",
       "    .dataframe tbody tr th:only-of-type {\n",
       "        vertical-align: middle;\n",
       "    }\n",
       "\n",
       "    .dataframe tbody tr th {\n",
       "        vertical-align: top;\n",
       "    }\n",
       "\n",
       "    .dataframe thead th {\n",
       "        text-align: right;\n",
       "    }\n",
       "</style>\n",
       "<table border=\"1\" class=\"dataframe\">\n",
       "  <thead>\n",
       "    <tr style=\"text-align: right;\">\n",
       "      <th></th>\n",
       "      <th>Item_Identifier</th>\n",
       "      <th>Item_Weight</th>\n",
       "      <th>Item_Fat_Content</th>\n",
       "      <th>Item_Visibility</th>\n",
       "      <th>Item_Type</th>\n",
       "      <th>Item_MRP</th>\n",
       "      <th>Outlet_Identifier</th>\n",
       "      <th>Outlet_Establishment_Year</th>\n",
       "      <th>Outlet_Size</th>\n",
       "      <th>Outlet_Location_Type</th>\n",
       "      <th>Outlet_Type</th>\n",
       "      <th>Item_Outlet_Sales</th>\n",
       "    </tr>\n",
       "  </thead>\n",
       "  <tbody>\n",
       "    <tr>\n",
       "      <th>14199</th>\n",
       "      <td>FDB58</td>\n",
       "      <td>10.5</td>\n",
       "      <td>Regular</td>\n",
       "      <td>0.013496</td>\n",
       "      <td>Snack Foods</td>\n",
       "      <td>141.3154</td>\n",
       "      <td>OUT046</td>\n",
       "      <td>1997</td>\n",
       "      <td>Small</td>\n",
       "      <td>Tier 1</td>\n",
       "      <td>Supermarket Type1</td>\n",
       "      <td>NaN</td>\n",
       "    </tr>\n",
       "    <tr>\n",
       "      <th>14200</th>\n",
       "      <td>FDD47</td>\n",
       "      <td>7.6</td>\n",
       "      <td>Regular</td>\n",
       "      <td>0.142991</td>\n",
       "      <td>Starchy Foods</td>\n",
       "      <td>169.1448</td>\n",
       "      <td>OUT018</td>\n",
       "      <td>2009</td>\n",
       "      <td>Medium</td>\n",
       "      <td>Tier 3</td>\n",
       "      <td>Supermarket Type2</td>\n",
       "      <td>NaN</td>\n",
       "    </tr>\n",
       "    <tr>\n",
       "      <th>14201</th>\n",
       "      <td>NCO17</td>\n",
       "      <td>10.0</td>\n",
       "      <td>Low Fat</td>\n",
       "      <td>0.073529</td>\n",
       "      <td>Health and Hygiene</td>\n",
       "      <td>118.7440</td>\n",
       "      <td>OUT045</td>\n",
       "      <td>2002</td>\n",
       "      <td>NaN</td>\n",
       "      <td>Tier 2</td>\n",
       "      <td>Supermarket Type1</td>\n",
       "      <td>NaN</td>\n",
       "    </tr>\n",
       "    <tr>\n",
       "      <th>14202</th>\n",
       "      <td>FDJ26</td>\n",
       "      <td>15.3</td>\n",
       "      <td>Regular</td>\n",
       "      <td>0.000000</td>\n",
       "      <td>Canned</td>\n",
       "      <td>214.6218</td>\n",
       "      <td>OUT017</td>\n",
       "      <td>2007</td>\n",
       "      <td>NaN</td>\n",
       "      <td>Tier 2</td>\n",
       "      <td>Supermarket Type1</td>\n",
       "      <td>NaN</td>\n",
       "    </tr>\n",
       "    <tr>\n",
       "      <th>14203</th>\n",
       "      <td>FDU37</td>\n",
       "      <td>9.5</td>\n",
       "      <td>Regular</td>\n",
       "      <td>0.104720</td>\n",
       "      <td>Canned</td>\n",
       "      <td>79.7960</td>\n",
       "      <td>OUT045</td>\n",
       "      <td>2002</td>\n",
       "      <td>NaN</td>\n",
       "      <td>Tier 2</td>\n",
       "      <td>Supermarket Type1</td>\n",
       "      <td>NaN</td>\n",
       "    </tr>\n",
       "  </tbody>\n",
       "</table>\n",
       "</div>"
      ],
      "text/plain": [
       "      Item_Identifier  Item_Weight Item_Fat_Content  Item_Visibility  \\\n",
       "14199           FDB58         10.5          Regular         0.013496   \n",
       "14200           FDD47          7.6          Regular         0.142991   \n",
       "14201           NCO17         10.0          Low Fat         0.073529   \n",
       "14202           FDJ26         15.3          Regular         0.000000   \n",
       "14203           FDU37          9.5          Regular         0.104720   \n",
       "\n",
       "                Item_Type  Item_MRP Outlet_Identifier  \\\n",
       "14199         Snack Foods  141.3154            OUT046   \n",
       "14200       Starchy Foods  169.1448            OUT018   \n",
       "14201  Health and Hygiene  118.7440            OUT045   \n",
       "14202              Canned  214.6218            OUT017   \n",
       "14203              Canned   79.7960            OUT045   \n",
       "\n",
       "       Outlet_Establishment_Year Outlet_Size Outlet_Location_Type  \\\n",
       "14199                       1997       Small               Tier 1   \n",
       "14200                       2009      Medium               Tier 3   \n",
       "14201                       2002         NaN               Tier 2   \n",
       "14202                       2007         NaN               Tier 2   \n",
       "14203                       2002         NaN               Tier 2   \n",
       "\n",
       "             Outlet_Type  Item_Outlet_Sales  \n",
       "14199  Supermarket Type1                NaN  \n",
       "14200  Supermarket Type2                NaN  \n",
       "14201  Supermarket Type1                NaN  \n",
       "14202  Supermarket Type1                NaN  \n",
       "14203  Supermarket Type1                NaN  "
      ]
     },
     "execution_count": 33,
     "metadata": {},
     "output_type": "execute_result"
    }
   ],
   "source": [
    "df.tail()"
   ]
  },
  {
   "cell_type": "code",
   "execution_count": 34,
   "metadata": {},
   "outputs": [
    {
     "name": "stdout",
     "output_type": "stream",
     "text": [
      "<class 'pandas.core.frame.DataFrame'>\n",
      "RangeIndex: 14204 entries, 0 to 14203\n",
      "Data columns (total 12 columns):\n",
      " #   Column                     Non-Null Count  Dtype  \n",
      "---  ------                     --------------  -----  \n",
      " 0   Item_Identifier            14204 non-null  object \n",
      " 1   Item_Weight                11765 non-null  float64\n",
      " 2   Item_Fat_Content           14204 non-null  object \n",
      " 3   Item_Visibility            14204 non-null  float64\n",
      " 4   Item_Type                  14204 non-null  object \n",
      " 5   Item_MRP                   14204 non-null  float64\n",
      " 6   Outlet_Identifier          14204 non-null  object \n",
      " 7   Outlet_Establishment_Year  14204 non-null  int64  \n",
      " 8   Outlet_Size                10188 non-null  object \n",
      " 9   Outlet_Location_Type       14204 non-null  object \n",
      " 10  Outlet_Type                14204 non-null  object \n",
      " 11  Item_Outlet_Sales          8523 non-null   float64\n",
      "dtypes: float64(4), int64(1), object(7)\n",
      "memory usage: 1.3+ MB\n"
     ]
    }
   ],
   "source": [
    "df.info()"
   ]
  },
  {
   "cell_type": "code",
   "execution_count": null,
   "metadata": {},
   "outputs": [],
   "source": []
  },
  {
   "cell_type": "code",
   "execution_count": 35,
   "metadata": {},
   "outputs": [],
   "source": [
    "df.drop(['Item_Weight','Outlet_Establishment_Year','Outlet_Size','Outlet_Location_Type','Outlet_Type'],axis=1,inplace=True)"
   ]
  },
  {
   "cell_type": "code",
   "execution_count": 36,
   "metadata": {},
   "outputs": [],
   "source": [
    "df.Item_Fat_Content=df.Item_Fat_Content.replace('LF','Low Fat')\n",
    "df.Item_Fat_Content=df.Item_Fat_Content.replace('reg','Regular')\n",
    "df.Item_Fat_Content=df.Item_Fat_Content.replace('low fat','Low Fat')"
   ]
  },
  {
   "cell_type": "code",
   "execution_count": null,
   "metadata": {},
   "outputs": [],
   "source": []
  },
  {
   "cell_type": "code",
   "execution_count": 37,
   "metadata": {},
   "outputs": [
    {
     "name": "stdout",
     "output_type": "stream",
     "text": [
      "<class 'pandas.core.frame.DataFrame'>\n",
      "RangeIndex: 14204 entries, 0 to 14203\n",
      "Data columns (total 7 columns):\n",
      " #   Column             Non-Null Count  Dtype  \n",
      "---  ------             --------------  -----  \n",
      " 0   Item_Identifier    14204 non-null  object \n",
      " 1   Item_Fat_Content   14204 non-null  object \n",
      " 2   Item_Visibility    14204 non-null  float64\n",
      " 3   Item_Type          14204 non-null  object \n",
      " 4   Item_MRP           14204 non-null  float64\n",
      " 5   Outlet_Identifier  14204 non-null  object \n",
      " 6   Item_Outlet_Sales  8523 non-null   float64\n",
      "dtypes: float64(3), object(4)\n",
      "memory usage: 776.9+ KB\n"
     ]
    }
   ],
   "source": [
    "df.info()"
   ]
  },
  {
   "cell_type": "code",
   "execution_count": 38,
   "metadata": {},
   "outputs": [
    {
     "data": {
      "text/plain": [
       "(14204, 7)"
      ]
     },
     "execution_count": 38,
     "metadata": {},
     "output_type": "execute_result"
    }
   ],
   "source": [
    "df.drop_duplicates(inplace=True)\n",
    "df.shape"
   ]
  },
  {
   "cell_type": "code",
   "execution_count": 39,
   "metadata": {},
   "outputs": [],
   "source": [
    "feature = df.iloc[:,:-1]\n",
    "num_feat = feature[['Item_Visibility','Item_MRP']]\n",
    "obj_feat = feature[['Item_Identifier','Item_Fat_Content','Item_Type','Outlet_Identifier']]"
   ]
  },
  {
   "cell_type": "code",
   "execution_count": 40,
   "metadata": {},
   "outputs": [
    {
     "data": {
      "text/html": [
       "<div>\n",
       "<style scoped>\n",
       "    .dataframe tbody tr th:only-of-type {\n",
       "        vertical-align: middle;\n",
       "    }\n",
       "\n",
       "    .dataframe tbody tr th {\n",
       "        vertical-align: top;\n",
       "    }\n",
       "\n",
       "    .dataframe thead th {\n",
       "        text-align: right;\n",
       "    }\n",
       "</style>\n",
       "<table border=\"1\" class=\"dataframe\">\n",
       "  <thead>\n",
       "    <tr style=\"text-align: right;\">\n",
       "      <th></th>\n",
       "      <th>Item_Visibility</th>\n",
       "      <th>Item_MRP</th>\n",
       "    </tr>\n",
       "  </thead>\n",
       "  <tbody>\n",
       "    <tr>\n",
       "      <th>0</th>\n",
       "      <td>-0.969852</td>\n",
       "      <td>1.752511</td>\n",
       "    </tr>\n",
       "    <tr>\n",
       "      <th>1</th>\n",
       "      <td>-0.907063</td>\n",
       "      <td>-1.493696</td>\n",
       "    </tr>\n",
       "    <tr>\n",
       "      <th>2</th>\n",
       "      <td>-0.956000</td>\n",
       "      <td>0.009874</td>\n",
       "    </tr>\n",
       "    <tr>\n",
       "      <th>3</th>\n",
       "      <td>-1.281712</td>\n",
       "      <td>0.661838</td>\n",
       "    </tr>\n",
       "    <tr>\n",
       "      <th>4</th>\n",
       "      <td>-1.281712</td>\n",
       "      <td>-1.403623</td>\n",
       "    </tr>\n",
       "  </tbody>\n",
       "</table>\n",
       "</div>"
      ],
      "text/plain": [
       "   Item_Visibility  Item_MRP\n",
       "0        -0.969852  1.752511\n",
       "1        -0.907063 -1.493696\n",
       "2        -0.956000  0.009874\n",
       "3        -1.281712  0.661838\n",
       "4        -1.281712 -1.403623"
      ]
     },
     "execution_count": 40,
     "metadata": {},
     "output_type": "execute_result"
    }
   ],
   "source": [
    "from sklearn.preprocessing import StandardScaler\n",
    "\n",
    "scaler = StandardScaler()\n",
    "scaler.fit(num_feat)\n",
    "scaled = scaler.transform(num_feat)\n",
    "\n",
    "num_columns = ['Item_Visibility','Item_MRP']\n",
    "df_scaled = pd.DataFrame(scaled, columns=num_columns)\n",
    "df_scaled.head()"
   ]
  },
  {
   "cell_type": "code",
   "execution_count": 41,
   "metadata": {},
   "outputs": [],
   "source": [
    "# one-hot\n",
    "df_ohe = pd.get_dummies(obj_feat)"
   ]
  },
  {
   "cell_type": "code",
   "execution_count": 42,
   "metadata": {},
   "outputs": [
    {
     "data": {
      "text/plain": [
       "((14204, 2), (14204, 1587))"
      ]
     },
     "execution_count": 42,
     "metadata": {},
     "output_type": "execute_result"
    }
   ],
   "source": [
    "df_scaled.shape, df_ohe.shape"
   ]
  },
  {
   "cell_type": "code",
   "execution_count": 43,
   "metadata": {},
   "outputs": [
    {
     "data": {
      "text/plain": [
       "(14204, 1589)"
      ]
     },
     "execution_count": 43,
     "metadata": {},
     "output_type": "execute_result"
    }
   ],
   "source": [
    "data = pd.concat([df_scaled, df_ohe], axis=1)\n",
    "data.shape"
   ]
  },
  {
   "cell_type": "code",
   "execution_count": null,
   "metadata": {},
   "outputs": [],
   "source": []
  },
  {
   "cell_type": "code",
   "execution_count": 44,
   "metadata": {},
   "outputs": [
    {
     "data": {
      "text/plain": [
       "<AxesSubplot:xlabel='Item_Outlet_Sales', ylabel='Density'>"
      ]
     },
     "execution_count": 44,
     "metadata": {},
     "output_type": "execute_result"
    },
    {
     "data": {
      "image/png": "[encoded data removed]",
      "text/plain": [
       "<Figure size 432x288 with 1 Axes>"
      ]
     },
     "metadata": {
      "needs_background": "light"
     },
     "output_type": "display_data"
    }
   ],
   "source": [
    "sns.distplot(df['Item_Outlet_Sales'])"
   ]
  },
  {
   "cell_type": "code",
   "execution_count": 45,
   "metadata": {},
   "outputs": [],
   "source": [
    "df['Item_Outlet_Sales'] = np.log1p(df['Item_Outlet_Sales'])"
   ]
  },
  {
   "cell_type": "code",
   "execution_count": 46,
   "metadata": {},
   "outputs": [
    {
     "data": {
      "text/plain": [
       "<AxesSubplot:xlabel='Item_Outlet_Sales', ylabel='Density'>"
      ]
     },
     "execution_count": 46,
     "metadata": {},
     "output_type": "execute_result"
    },
    {
     "data": {
      "image/png": "[encoded data removed]",
      "text/plain": [
       "<Figure size 432x288 with 1 Axes>"
      ]
     },
     "metadata": {
      "needs_background": "light"
     },
     "output_type": "display_data"
    }
   ],
   "source": [
    "sns.distplot(df['Item_Outlet_Sales'])"
   ]
  },
  {
   "cell_type": "code",
   "execution_count": 47,
   "metadata": {},
   "outputs": [
    {
     "data": {
      "text/plain": [
       "((8523, 1589), (8523,), (5681, 1589))"
      ]
     },
     "execution_count": 47,
     "metadata": {},
     "output_type": "execute_result"
    }
   ],
   "source": [
    "X_train = data.iloc[:8523]\n",
    "y_train = df['Item_Outlet_Sales'][:8523]\n",
    "\n",
    "X_test = data.iloc[8523:]\n",
    "\n",
    "X_train.shape, y_train.shape, X_test.shape"
   ]
  },
  {
   "cell_type": "code",
   "execution_count": 48,
   "metadata": {},
   "outputs": [
    {
     "data": {
      "text/plain": [
       "(8523, 1590)"
      ]
     },
     "execution_count": 48,
     "metadata": {},
     "output_type": "execute_result"
    }
   ],
   "source": [
    "train = pd.concat([X_train, y_train], axis=1)\n",
    "train.shape"
   ]
  },
  {
   "cell_type": "code",
   "execution_count": 49,
   "metadata": {},
   "outputs": [],
   "source": [
    "from pycaret.regression import *"
   ]
  },
  {
   "cell_type": "code",
   "execution_count": 50,
   "metadata": {},
   "outputs": [
    {
     "data": {
      "text/html": [
       "<style  type=\"text/css\" >\n",
       "</style><table id=\"T_d06a9c00_c1f6_11eb_8263_acde48001122\" ><thead>    <tr>        <th class=\"blank level0\" ></th>        <th class=\"col_heading level0 col0\" >Description</th>        <th class=\"col_heading level0 col1\" >Value</th>    </tr></thead><tbody>\n",
       "                <tr>\n",
       "                        <th id=\"T_d06a9c00_c1f6_11eb_8263_acde48001122level0_row0\" class=\"row_heading level0 row0\" >0</th>\n",
       "                        <td id=\"T_d06a9c00_c1f6_11eb_8263_acde48001122row0_col0\" class=\"data row0 col0\" >session_id</td>\n",
       "                        <td id=\"T_d06a9c00_c1f6_11eb_8263_acde48001122row0_col1\" class=\"data row0 col1\" >2255</td>\n",
       "            </tr>\n",
       "            <tr>\n",
       "                        <th id=\"T_d06a9c00_c1f6_11eb_8263_acde48001122level0_row1\" class=\"row_heading level0 row1\" >1</th>\n",
       "                        <td id=\"T_d06a9c00_c1f6_11eb_8263_acde48001122row1_col0\" class=\"data row1 col0\" >Target</td>\n",
       "                        <td id=\"T_d06a9c00_c1f6_11eb_8263_acde48001122row1_col1\" class=\"data row1 col1\" >Item_Outlet_Sales</td>\n",
       "            </tr>\n",
       "            <tr>\n",
       "                        <th id=\"T_d06a9c00_c1f6_11eb_8263_acde48001122level0_row2\" class=\"row_heading level0 row2\" >2</th>\n",
       "                        <td id=\"T_d06a9c00_c1f6_11eb_8263_acde48001122row2_col0\" class=\"data row2 col0\" >Original Data</td>\n",
       "                        <td id=\"T_d06a9c00_c1f6_11eb_8263_acde48001122row2_col1\" class=\"data row2 col1\" >(8523, 1590)</td>\n",
       "            </tr>\n",
       "            <tr>\n",
       "                        <th id=\"T_d06a9c00_c1f6_11eb_8263_acde48001122level0_row3\" class=\"row_heading level0 row3\" >3</th>\n",
       "                        <td id=\"T_d06a9c00_c1f6_11eb_8263_acde48001122row3_col0\" class=\"data row3 col0\" >Missing Values</td>\n",
       "                        <td id=\"T_d06a9c00_c1f6_11eb_8263_acde48001122row3_col1\" class=\"data row3 col1\" >False</td>\n",
       "            </tr>\n",
       "            <tr>\n",
       "                        <th id=\"T_d06a9c00_c1f6_11eb_8263_acde48001122level0_row4\" class=\"row_heading level0 row4\" >4</th>\n",
       "                        <td id=\"T_d06a9c00_c1f6_11eb_8263_acde48001122row4_col0\" class=\"data row4 col0\" >Numeric Features</td>\n",
       "                        <td id=\"T_d06a9c00_c1f6_11eb_8263_acde48001122row4_col1\" class=\"data row4 col1\" >1589</td>\n",
       "            </tr>\n",
       "            <tr>\n",
       "                        <th id=\"T_d06a9c00_c1f6_11eb_8263_acde48001122level0_row5\" class=\"row_heading level0 row5\" >5</th>\n",
       "                        <td id=\"T_d06a9c00_c1f6_11eb_8263_acde48001122row5_col0\" class=\"data row5 col0\" >Categorical Features</td>\n",
       "                        <td id=\"T_d06a9c00_c1f6_11eb_8263_acde48001122row5_col1\" class=\"data row5 col1\" >0</td>\n",
       "            </tr>\n",
       "            <tr>\n",
       "                        <th id=\"T_d06a9c00_c1f6_11eb_8263_acde48001122level0_row6\" class=\"row_heading level0 row6\" >6</th>\n",
       "                        <td id=\"T_d06a9c00_c1f6_11eb_8263_acde48001122row6_col0\" class=\"data row6 col0\" >Ordinal Features</td>\n",
       "                        <td id=\"T_d06a9c00_c1f6_11eb_8263_acde48001122row6_col1\" class=\"data row6 col1\" >False</td>\n",
       "            </tr>\n",
       "            <tr>\n",
       "                        <th id=\"T_d06a9c00_c1f6_11eb_8263_acde48001122level0_row7\" class=\"row_heading level0 row7\" >7</th>\n",
       "                        <td id=\"T_d06a9c00_c1f6_11eb_8263_acde48001122row7_col0\" class=\"data row7 col0\" >High Cardinality Features</td>\n",
       "                        <td id=\"T_d06a9c00_c1f6_11eb_8263_acde48001122row7_col1\" class=\"data row7 col1\" >False</td>\n",
       "            </tr>\n",
       "            <tr>\n",
       "                        <th id=\"T_d06a9c00_c1f6_11eb_8263_acde48001122level0_row8\" class=\"row_heading level0 row8\" >8</th>\n",
       "                        <td id=\"T_d06a9c00_c1f6_11eb_8263_acde48001122row8_col0\" class=\"data row8 col0\" >High Cardinality Method</td>\n",
       "                        <td id=\"T_d06a9c00_c1f6_11eb_8263_acde48001122row8_col1\" class=\"data row8 col1\" >None</td>\n",
       "            </tr>\n",
       "            <tr>\n",
       "                        <th id=\"T_d06a9c00_c1f6_11eb_8263_acde48001122level0_row9\" class=\"row_heading level0 row9\" >9</th>\n",
       "                        <td id=\"T_d06a9c00_c1f6_11eb_8263_acde48001122row9_col0\" class=\"data row9 col0\" >Transformed Train Set</td>\n",
       "                        <td id=\"T_d06a9c00_c1f6_11eb_8263_acde48001122row9_col1\" class=\"data row9 col1\" >(6818, 1588)</td>\n",
       "            </tr>\n",
       "            <tr>\n",
       "                        <th id=\"T_d06a9c00_c1f6_11eb_8263_acde48001122level0_row10\" class=\"row_heading level0 row10\" >10</th>\n",
       "                        <td id=\"T_d06a9c00_c1f6_11eb_8263_acde48001122row10_col0\" class=\"data row10 col0\" >Transformed Test Set</td>\n",
       "                        <td id=\"T_d06a9c00_c1f6_11eb_8263_acde48001122row10_col1\" class=\"data row10 col1\" >(1705, 1588)</td>\n",
       "            </tr>\n",
       "            <tr>\n",
       "                        <th id=\"T_d06a9c00_c1f6_11eb_8263_acde48001122level0_row11\" class=\"row_heading level0 row11\" >11</th>\n",
       "                        <td id=\"T_d06a9c00_c1f6_11eb_8263_acde48001122row11_col0\" class=\"data row11 col0\" >Shuffle Train-Test</td>\n",
       "                        <td id=\"T_d06a9c00_c1f6_11eb_8263_acde48001122row11_col1\" class=\"data row11 col1\" >True</td>\n",
       "            </tr>\n",
       "            <tr>\n",
       "                        <th id=\"T_d06a9c00_c1f6_11eb_8263_acde48001122level0_row12\" class=\"row_heading level0 row12\" >12</th>\n",
       "                        <td id=\"T_d06a9c00_c1f6_11eb_8263_acde48001122row12_col0\" class=\"data row12 col0\" >Stratify Train-Test</td>\n",
       "                        <td id=\"T_d06a9c00_c1f6_11eb_8263_acde48001122row12_col1\" class=\"data row12 col1\" >False</td>\n",
       "            </tr>\n",
       "            <tr>\n",
       "                        <th id=\"T_d06a9c00_c1f6_11eb_8263_acde48001122level0_row13\" class=\"row_heading level0 row13\" >13</th>\n",
       "                        <td id=\"T_d06a9c00_c1f6_11eb_8263_acde48001122row13_col0\" class=\"data row13 col0\" >Fold Generator</td>\n",
       "                        <td id=\"T_d06a9c00_c1f6_11eb_8263_acde48001122row13_col1\" class=\"data row13 col1\" >KFold</td>\n",
       "            </tr>\n",
       "            <tr>\n",
       "                        <th id=\"T_d06a9c00_c1f6_11eb_8263_acde48001122level0_row14\" class=\"row_heading level0 row14\" >14</th>\n",
       "                        <td id=\"T_d06a9c00_c1f6_11eb_8263_acde48001122row14_col0\" class=\"data row14 col0\" >Fold Number</td>\n",
       "                        <td id=\"T_d06a9c00_c1f6_11eb_8263_acde48001122row14_col1\" class=\"data row14 col1\" >10</td>\n",
       "            </tr>\n",
       "            <tr>\n",
       "                        <th id=\"T_d06a9c00_c1f6_11eb_8263_acde48001122level0_row15\" class=\"row_heading level0 row15\" >15</th>\n",
       "                        <td id=\"T_d06a9c00_c1f6_11eb_8263_acde48001122row15_col0\" class=\"data row15 col0\" >CPU Jobs</td>\n",
       "                        <td id=\"T_d06a9c00_c1f6_11eb_8263_acde48001122row15_col1\" class=\"data row15 col1\" >-1</td>\n",
       "            </tr>\n",
       "            <tr>\n",
       "                        <th id=\"T_d06a9c00_c1f6_11eb_8263_acde48001122level0_row16\" class=\"row_heading level0 row16\" >16</th>\n",
       "                        <td id=\"T_d06a9c00_c1f6_11eb_8263_acde48001122row16_col0\" class=\"data row16 col0\" >Use GPU</td>\n",
       "                        <td id=\"T_d06a9c00_c1f6_11eb_8263_acde48001122row16_col1\" class=\"data row16 col1\" >False</td>\n",
       "            </tr>\n",
       "            <tr>\n",
       "                        <th id=\"T_d06a9c00_c1f6_11eb_8263_acde48001122level0_row17\" class=\"row_heading level0 row17\" >17</th>\n",
       "                        <td id=\"T_d06a9c00_c1f6_11eb_8263_acde48001122row17_col0\" class=\"data row17 col0\" >Log Experiment</td>\n",
       "                        <td id=\"T_d06a9c00_c1f6_11eb_8263_acde48001122row17_col1\" class=\"data row17 col1\" >False</td>\n",
       "            </tr>\n",
       "            <tr>\n",
       "                        <th id=\"T_d06a9c00_c1f6_11eb_8263_acde48001122level0_row18\" class=\"row_heading level0 row18\" >18</th>\n",
       "                        <td id=\"T_d06a9c00_c1f6_11eb_8263_acde48001122row18_col0\" class=\"data row18 col0\" >Experiment Name</td>\n",
       "                        <td id=\"T_d06a9c00_c1f6_11eb_8263_acde48001122row18_col1\" class=\"data row18 col1\" >reg-default-name</td>\n",
       "            </tr>\n",
       "            <tr>\n",
       "                        <th id=\"T_d06a9c00_c1f6_11eb_8263_acde48001122level0_row19\" class=\"row_heading level0 row19\" >19</th>\n",
       "                        <td id=\"T_d06a9c00_c1f6_11eb_8263_acde48001122row19_col0\" class=\"data row19 col0\" >USI</td>\n",
       "                        <td id=\"T_d06a9c00_c1f6_11eb_8263_acde48001122row19_col1\" class=\"data row19 col1\" >4b90</td>\n",
       "            </tr>\n",
       "            <tr>\n",
       "                        <th id=\"T_d06a9c00_c1f6_11eb_8263_acde48001122level0_row20\" class=\"row_heading level0 row20\" >20</th>\n",
       "                        <td id=\"T_d06a9c00_c1f6_11eb_8263_acde48001122row20_col0\" class=\"data row20 col0\" >Imputation Type</td>\n",
       "                        <td id=\"T_d06a9c00_c1f6_11eb_8263_acde48001122row20_col1\" class=\"data row20 col1\" >simple</td>\n",
       "            </tr>\n",
       "            <tr>\n",
       "                        <th id=\"T_d06a9c00_c1f6_11eb_8263_acde48001122level0_row21\" class=\"row_heading level0 row21\" >21</th>\n",
       "                        <td id=\"T_d06a9c00_c1f6_11eb_8263_acde48001122row21_col0\" class=\"data row21 col0\" >Iterative Imputation Iteration</td>\n",
       "                        <td id=\"T_d06a9c00_c1f6_11eb_8263_acde48001122row21_col1\" class=\"data row21 col1\" >None</td>\n",
       "            </tr>\n",
       "            <tr>\n",
       "                        <th id=\"T_d06a9c00_c1f6_11eb_8263_acde48001122level0_row22\" class=\"row_heading level0 row22\" >22</th>\n",
       "                        <td id=\"T_d06a9c00_c1f6_11eb_8263_acde48001122row22_col0\" class=\"data row22 col0\" >Numeric Imputer</td>\n",
       "                        <td id=\"T_d06a9c00_c1f6_11eb_8263_acde48001122row22_col1\" class=\"data row22 col1\" >mean</td>\n",
       "            </tr>\n",
       "            <tr>\n",
       "                        <th id=\"T_d06a9c00_c1f6_11eb_8263_acde48001122level0_row23\" class=\"row_heading level0 row23\" >23</th>\n",
       "                        <td id=\"T_d06a9c00_c1f6_11eb_8263_acde48001122row23_col0\" class=\"data row23 col0\" >Iterative Imputation Numeric Model</td>\n",
       "                        <td id=\"T_d06a9c00_c1f6_11eb_8263_acde48001122row23_col1\" class=\"data row23 col1\" >None</td>\n",
       "            </tr>\n",
       "            <tr>\n",
       "                        <th id=\"T_d06a9c00_c1f6_11eb_8263_acde48001122level0_row24\" class=\"row_heading level0 row24\" >24</th>\n",
       "                        <td id=\"T_d06a9c00_c1f6_11eb_8263_acde48001122row24_col0\" class=\"data row24 col0\" >Categorical Imputer</td>\n",
       "                        <td id=\"T_d06a9c00_c1f6_11eb_8263_acde48001122row24_col1\" class=\"data row24 col1\" >constant</td>\n",
       "            </tr>\n",
       "            <tr>\n",
       "                        <th id=\"T_d06a9c00_c1f6_11eb_8263_acde48001122level0_row25\" class=\"row_heading level0 row25\" >25</th>\n",
       "                        <td id=\"T_d06a9c00_c1f6_11eb_8263_acde48001122row25_col0\" class=\"data row25 col0\" >Iterative Imputation Categorical Model</td>\n",
       "                        <td id=\"T_d06a9c00_c1f6_11eb_8263_acde48001122row25_col1\" class=\"data row25 col1\" >None</td>\n",
       "            </tr>\n",
       "            <tr>\n",
       "                        <th id=\"T_d06a9c00_c1f6_11eb_8263_acde48001122level0_row26\" class=\"row_heading level0 row26\" >26</th>\n",
       "                        <td id=\"T_d06a9c00_c1f6_11eb_8263_acde48001122row26_col0\" class=\"data row26 col0\" >Unknown Categoricals Handling</td>\n",
       "                        <td id=\"T_d06a9c00_c1f6_11eb_8263_acde48001122row26_col1\" class=\"data row26 col1\" >least_frequent</td>\n",
       "            </tr>\n",
       "            <tr>\n",
       "                        <th id=\"T_d06a9c00_c1f6_11eb_8263_acde48001122level0_row27\" class=\"row_heading level0 row27\" >27</th>\n",
       "                        <td id=\"T_d06a9c00_c1f6_11eb_8263_acde48001122row27_col0\" class=\"data row27 col0\" >Normalize</td>\n",
       "                        <td id=\"T_d06a9c00_c1f6_11eb_8263_acde48001122row27_col1\" class=\"data row27 col1\" >False</td>\n",
       "            </tr>\n",
       "            <tr>\n",
       "                        <th id=\"T_d06a9c00_c1f6_11eb_8263_acde48001122level0_row28\" class=\"row_heading level0 row28\" >28</th>\n",
       "                        <td id=\"T_d06a9c00_c1f6_11eb_8263_acde48001122row28_col0\" class=\"data row28 col0\" >Normalize Method</td>\n",
       "                        <td id=\"T_d06a9c00_c1f6_11eb_8263_acde48001122row28_col1\" class=\"data row28 col1\" >None</td>\n",
       "            </tr>\n",
       "            <tr>\n",
       "                        <th id=\"T_d06a9c00_c1f6_11eb_8263_acde48001122level0_row29\" class=\"row_heading level0 row29\" >29</th>\n",
       "                        <td id=\"T_d06a9c00_c1f6_11eb_8263_acde48001122row29_col0\" class=\"data row29 col0\" >Transformation</td>\n",
       "                        <td id=\"T_d06a9c00_c1f6_11eb_8263_acde48001122row29_col1\" class=\"data row29 col1\" >False</td>\n",
       "            </tr>\n",
       "            <tr>\n",
       "                        <th id=\"T_d06a9c00_c1f6_11eb_8263_acde48001122level0_row30\" class=\"row_heading level0 row30\" >30</th>\n",
       "                        <td id=\"T_d06a9c00_c1f6_11eb_8263_acde48001122row30_col0\" class=\"data row30 col0\" >Transformation Method</td>\n",
       "                        <td id=\"T_d06a9c00_c1f6_11eb_8263_acde48001122row30_col1\" class=\"data row30 col1\" >None</td>\n",
       "            </tr>\n",
       "            <tr>\n",
       "                        <th id=\"T_d06a9c00_c1f6_11eb_8263_acde48001122level0_row31\" class=\"row_heading level0 row31\" >31</th>\n",
       "                        <td id=\"T_d06a9c00_c1f6_11eb_8263_acde48001122row31_col0\" class=\"data row31 col0\" >PCA</td>\n",
       "                        <td id=\"T_d06a9c00_c1f6_11eb_8263_acde48001122row31_col1\" class=\"data row31 col1\" >False</td>\n",
       "            </tr>\n",
       "            <tr>\n",
       "                        <th id=\"T_d06a9c00_c1f6_11eb_8263_acde48001122level0_row32\" class=\"row_heading level0 row32\" >32</th>\n",
       "                        <td id=\"T_d06a9c00_c1f6_11eb_8263_acde48001122row32_col0\" class=\"data row32 col0\" >PCA Method</td>\n",
       "                        <td id=\"T_d06a9c00_c1f6_11eb_8263_acde48001122row32_col1\" class=\"data row32 col1\" >None</td>\n",
       "            </tr>\n",
       "            <tr>\n",
       "                        <th id=\"T_d06a9c00_c1f6_11eb_8263_acde48001122level0_row33\" class=\"row_heading level0 row33\" >33</th>\n",
       "                        <td id=\"T_d06a9c00_c1f6_11eb_8263_acde48001122row33_col0\" class=\"data row33 col0\" >PCA Components</td>\n",
       "                        <td id=\"T_d06a9c00_c1f6_11eb_8263_acde48001122row33_col1\" class=\"data row33 col1\" >None</td>\n",
       "            </tr>\n",
       "            <tr>\n",
       "                        <th id=\"T_d06a9c00_c1f6_11eb_8263_acde48001122level0_row34\" class=\"row_heading level0 row34\" >34</th>\n",
       "                        <td id=\"T_d06a9c00_c1f6_11eb_8263_acde48001122row34_col0\" class=\"data row34 col0\" >Ignore Low Variance</td>\n",
       "                        <td id=\"T_d06a9c00_c1f6_11eb_8263_acde48001122row34_col1\" class=\"data row34 col1\" >False</td>\n",
       "            </tr>\n",
       "            <tr>\n",
       "                        <th id=\"T_d06a9c00_c1f6_11eb_8263_acde48001122level0_row35\" class=\"row_heading level0 row35\" >35</th>\n",
       "                        <td id=\"T_d06a9c00_c1f6_11eb_8263_acde48001122row35_col0\" class=\"data row35 col0\" >Combine Rare Levels</td>\n",
       "                        <td id=\"T_d06a9c00_c1f6_11eb_8263_acde48001122row35_col1\" class=\"data row35 col1\" >False</td>\n",
       "            </tr>\n",
       "            <tr>\n",
       "                        <th id=\"T_d06a9c00_c1f6_11eb_8263_acde48001122level0_row36\" class=\"row_heading level0 row36\" >36</th>\n",
       "                        <td id=\"T_d06a9c00_c1f6_11eb_8263_acde48001122row36_col0\" class=\"data row36 col0\" >Rare Level Threshold</td>\n",
       "                        <td id=\"T_d06a9c00_c1f6_11eb_8263_acde48001122row36_col1\" class=\"data row36 col1\" >None</td>\n",
       "            </tr>\n",
       "            <tr>\n",
       "                        <th id=\"T_d06a9c00_c1f6_11eb_8263_acde48001122level0_row37\" class=\"row_heading level0 row37\" >37</th>\n",
       "                        <td id=\"T_d06a9c00_c1f6_11eb_8263_acde48001122row37_col0\" class=\"data row37 col0\" >Numeric Binning</td>\n",
       "                        <td id=\"T_d06a9c00_c1f6_11eb_8263_acde48001122row37_col1\" class=\"data row37 col1\" >False</td>\n",
       "            </tr>\n",
       "            <tr>\n",
       "                        <th id=\"T_d06a9c00_c1f6_11eb_8263_acde48001122level0_row38\" class=\"row_heading level0 row38\" >38</th>\n",
       "                        <td id=\"T_d06a9c00_c1f6_11eb_8263_acde48001122row38_col0\" class=\"data row38 col0\" >Remove Outliers</td>\n",
       "                        <td id=\"T_d06a9c00_c1f6_11eb_8263_acde48001122row38_col1\" class=\"data row38 col1\" >False</td>\n",
       "            </tr>\n",
       "            <tr>\n",
       "                        <th id=\"T_d06a9c00_c1f6_11eb_8263_acde48001122level0_row39\" class=\"row_heading level0 row39\" >39</th>\n",
       "                        <td id=\"T_d06a9c00_c1f6_11eb_8263_acde48001122row39_col0\" class=\"data row39 col0\" >Outliers Threshold</td>\n",
       "                        <td id=\"T_d06a9c00_c1f6_11eb_8263_acde48001122row39_col1\" class=\"data row39 col1\" >None</td>\n",
       "            </tr>\n",
       "            <tr>\n",
       "                        <th id=\"T_d06a9c00_c1f6_11eb_8263_acde48001122level0_row40\" class=\"row_heading level0 row40\" >40</th>\n",
       "                        <td id=\"T_d06a9c00_c1f6_11eb_8263_acde48001122row40_col0\" class=\"data row40 col0\" >Remove Multicollinearity</td>\n",
       "                        <td id=\"T_d06a9c00_c1f6_11eb_8263_acde48001122row40_col1\" class=\"data row40 col1\" >False</td>\n",
       "            </tr>\n",
       "            <tr>\n",
       "                        <th id=\"T_d06a9c00_c1f6_11eb_8263_acde48001122level0_row41\" class=\"row_heading level0 row41\" >41</th>\n",
       "                        <td id=\"T_d06a9c00_c1f6_11eb_8263_acde48001122row41_col0\" class=\"data row41 col0\" >Multicollinearity Threshold</td>\n",
       "                        <td id=\"T_d06a9c00_c1f6_11eb_8263_acde48001122row41_col1\" class=\"data row41 col1\" >None</td>\n",
       "            </tr>\n",
       "            <tr>\n",
       "                        <th id=\"T_d06a9c00_c1f6_11eb_8263_acde48001122level0_row42\" class=\"row_heading level0 row42\" >42</th>\n",
       "                        <td id=\"T_d06a9c00_c1f6_11eb_8263_acde48001122row42_col0\" class=\"data row42 col0\" >Clustering</td>\n",
       "                        <td id=\"T_d06a9c00_c1f6_11eb_8263_acde48001122row42_col1\" class=\"data row42 col1\" >False</td>\n",
       "            </tr>\n",
       "            <tr>\n",
       "                        <th id=\"T_d06a9c00_c1f6_11eb_8263_acde48001122level0_row43\" class=\"row_heading level0 row43\" >43</th>\n",
       "                        <td id=\"T_d06a9c00_c1f6_11eb_8263_acde48001122row43_col0\" class=\"data row43 col0\" >Clustering Iteration</td>\n",
       "                        <td id=\"T_d06a9c00_c1f6_11eb_8263_acde48001122row43_col1\" class=\"data row43 col1\" >None</td>\n",
       "            </tr>\n",
       "            <tr>\n",
       "                        <th id=\"T_d06a9c00_c1f6_11eb_8263_acde48001122level0_row44\" class=\"row_heading level0 row44\" >44</th>\n",
       "                        <td id=\"T_d06a9c00_c1f6_11eb_8263_acde48001122row44_col0\" class=\"data row44 col0\" >Polynomial Features</td>\n",
       "                        <td id=\"T_d06a9c00_c1f6_11eb_8263_acde48001122row44_col1\" class=\"data row44 col1\" >False</td>\n",
       "            </tr>\n",
       "            <tr>\n",
       "                        <th id=\"T_d06a9c00_c1f6_11eb_8263_acde48001122level0_row45\" class=\"row_heading level0 row45\" >45</th>\n",
       "                        <td id=\"T_d06a9c00_c1f6_11eb_8263_acde48001122row45_col0\" class=\"data row45 col0\" >Polynomial Degree</td>\n",
       "                        <td id=\"T_d06a9c00_c1f6_11eb_8263_acde48001122row45_col1\" class=\"data row45 col1\" >None</td>\n",
       "            </tr>\n",
       "            <tr>\n",
       "                        <th id=\"T_d06a9c00_c1f6_11eb_8263_acde48001122level0_row46\" class=\"row_heading level0 row46\" >46</th>\n",
       "                        <td id=\"T_d06a9c00_c1f6_11eb_8263_acde48001122row46_col0\" class=\"data row46 col0\" >Trignometry Features</td>\n",
       "                        <td id=\"T_d06a9c00_c1f6_11eb_8263_acde48001122row46_col1\" class=\"data row46 col1\" >False</td>\n",
       "            </tr>\n",
       "            <tr>\n",
       "                        <th id=\"T_d06a9c00_c1f6_11eb_8263_acde48001122level0_row47\" class=\"row_heading level0 row47\" >47</th>\n",
       "                        <td id=\"T_d06a9c00_c1f6_11eb_8263_acde48001122row47_col0\" class=\"data row47 col0\" >Polynomial Threshold</td>\n",
       "                        <td id=\"T_d06a9c00_c1f6_11eb_8263_acde48001122row47_col1\" class=\"data row47 col1\" >None</td>\n",
       "            </tr>\n",
       "            <tr>\n",
       "                        <th id=\"T_d06a9c00_c1f6_11eb_8263_acde48001122level0_row48\" class=\"row_heading level0 row48\" >48</th>\n",
       "                        <td id=\"T_d06a9c00_c1f6_11eb_8263_acde48001122row48_col0\" class=\"data row48 col0\" >Group Features</td>\n",
       "                        <td id=\"T_d06a9c00_c1f6_11eb_8263_acde48001122row48_col1\" class=\"data row48 col1\" >False</td>\n",
       "            </tr>\n",
       "            <tr>\n",
       "                        <th id=\"T_d06a9c00_c1f6_11eb_8263_acde48001122level0_row49\" class=\"row_heading level0 row49\" >49</th>\n",
       "                        <td id=\"T_d06a9c00_c1f6_11eb_8263_acde48001122row49_col0\" class=\"data row49 col0\" >Feature Selection</td>\n",
       "                        <td id=\"T_d06a9c00_c1f6_11eb_8263_acde48001122row49_col1\" class=\"data row49 col1\" >False</td>\n",
       "            </tr>\n",
       "            <tr>\n",
       "                        <th id=\"T_d06a9c00_c1f6_11eb_8263_acde48001122level0_row50\" class=\"row_heading level0 row50\" >50</th>\n",
       "                        <td id=\"T_d06a9c00_c1f6_11eb_8263_acde48001122row50_col0\" class=\"data row50 col0\" >Feature Selection Method</td>\n",
       "                        <td id=\"T_d06a9c00_c1f6_11eb_8263_acde48001122row50_col1\" class=\"data row50 col1\" >classic</td>\n",
       "            </tr>\n",
       "            <tr>\n",
       "                        <th id=\"T_d06a9c00_c1f6_11eb_8263_acde48001122level0_row51\" class=\"row_heading level0 row51\" >51</th>\n",
       "                        <td id=\"T_d06a9c00_c1f6_11eb_8263_acde48001122row51_col0\" class=\"data row51 col0\" >Features Selection Threshold</td>\n",
       "                        <td id=\"T_d06a9c00_c1f6_11eb_8263_acde48001122row51_col1\" class=\"data row51 col1\" >None</td>\n",
       "            </tr>\n",
       "            <tr>\n",
       "                        <th id=\"T_d06a9c00_c1f6_11eb_8263_acde48001122level0_row52\" class=\"row_heading level0 row52\" >52</th>\n",
       "                        <td id=\"T_d06a9c00_c1f6_11eb_8263_acde48001122row52_col0\" class=\"data row52 col0\" >Feature Interaction</td>\n",
       "                        <td id=\"T_d06a9c00_c1f6_11eb_8263_acde48001122row52_col1\" class=\"data row52 col1\" >False</td>\n",
       "            </tr>\n",
       "            <tr>\n",
       "                        <th id=\"T_d06a9c00_c1f6_11eb_8263_acde48001122level0_row53\" class=\"row_heading level0 row53\" >53</th>\n",
       "                        <td id=\"T_d06a9c00_c1f6_11eb_8263_acde48001122row53_col0\" class=\"data row53 col0\" >Feature Ratio</td>\n",
       "                        <td id=\"T_d06a9c00_c1f6_11eb_8263_acde48001122row53_col1\" class=\"data row53 col1\" >False</td>\n",
       "            </tr>\n",
       "            <tr>\n",
       "                        <th id=\"T_d06a9c00_c1f6_11eb_8263_acde48001122level0_row54\" class=\"row_heading level0 row54\" >54</th>\n",
       "                        <td id=\"T_d06a9c00_c1f6_11eb_8263_acde48001122row54_col0\" class=\"data row54 col0\" >Interaction Threshold</td>\n",
       "                        <td id=\"T_d06a9c00_c1f6_11eb_8263_acde48001122row54_col1\" class=\"data row54 col1\" >None</td>\n",
       "            </tr>\n",
       "            <tr>\n",
       "                        <th id=\"T_d06a9c00_c1f6_11eb_8263_acde48001122level0_row55\" class=\"row_heading level0 row55\" >55</th>\n",
       "                        <td id=\"T_d06a9c00_c1f6_11eb_8263_acde48001122row55_col0\" class=\"data row55 col0\" >Transform Target</td>\n",
       "                        <td id=\"T_d06a9c00_c1f6_11eb_8263_acde48001122row55_col1\" class=\"data row55 col1\" >False</td>\n",
       "            </tr>\n",
       "            <tr>\n",
       "                        <th id=\"T_d06a9c00_c1f6_11eb_8263_acde48001122level0_row56\" class=\"row_heading level0 row56\" >56</th>\n",
       "                        <td id=\"T_d06a9c00_c1f6_11eb_8263_acde48001122row56_col0\" class=\"data row56 col0\" >Transform Target Method</td>\n",
       "                        <td id=\"T_d06a9c00_c1f6_11eb_8263_acde48001122row56_col1\" class=\"data row56 col1\" >box-cox</td>\n",
       "            </tr>\n",
       "    </tbody></table>"
      ],
      "text/plain": [
       "<pandas.io.formats.style.Styler at 0x7fe13455dcd0>"
      ]
     },
     "metadata": {},
     "output_type": "display_data"
    }
   ],
   "source": [
    "model = setup(train, target='Item_Outlet_Sales', train_size = 0.8)"
   ]
  },
  {
   "cell_type": "code",
   "execution_count": 51,
   "metadata": {},
   "outputs": [
    {
     "data": {
      "text/html": [
       "<style  type=\"text/css\" >\n",
       "    #T_554cd99c_c1f7_11eb_8263_acde48001122 th {\n",
       "          text-align: left;\n",
       "    }#T_554cd99c_c1f7_11eb_8263_acde48001122row0_col0,#T_554cd99c_c1f7_11eb_8263_acde48001122row1_col0,#T_554cd99c_c1f7_11eb_8263_acde48001122row1_col1,#T_554cd99c_c1f7_11eb_8263_acde48001122row1_col2,#T_554cd99c_c1f7_11eb_8263_acde48001122row1_col3,#T_554cd99c_c1f7_11eb_8263_acde48001122row1_col4,#T_554cd99c_c1f7_11eb_8263_acde48001122row1_col5,#T_554cd99c_c1f7_11eb_8263_acde48001122row1_col6,#T_554cd99c_c1f7_11eb_8263_acde48001122row2_col0,#T_554cd99c_c1f7_11eb_8263_acde48001122row2_col1,#T_554cd99c_c1f7_11eb_8263_acde48001122row2_col2,#T_554cd99c_c1f7_11eb_8263_acde48001122row2_col3,#T_554cd99c_c1f7_11eb_8263_acde48001122row2_col4,#T_554cd99c_c1f7_11eb_8263_acde48001122row2_col5,#T_554cd99c_c1f7_11eb_8263_acde48001122row2_col6,#T_554cd99c_c1f7_11eb_8263_acde48001122row3_col0,#T_554cd99c_c1f7_11eb_8263_acde48001122row3_col1,#T_554cd99c_c1f7_11eb_8263_acde48001122row3_col2,#T_554cd99c_c1f7_11eb_8263_acde48001122row3_col3,#T_554cd99c_c1f7_11eb_8263_acde48001122row3_col4,#T_554cd99c_c1f7_11eb_8263_acde48001122row3_col5,#T_554cd99c_c1f7_11eb_8263_acde48001122row3_col6,#T_554cd99c_c1f7_11eb_8263_acde48001122row4_col0,#T_554cd99c_c1f7_11eb_8263_acde48001122row4_col1,#T_554cd99c_c1f7_11eb_8263_acde48001122row4_col2,#T_554cd99c_c1f7_11eb_8263_acde48001122row4_col3,#T_554cd99c_c1f7_11eb_8263_acde48001122row4_col4,#T_554cd99c_c1f7_11eb_8263_acde48001122row4_col5,#T_554cd99c_c1f7_11eb_8263_acde48001122row4_col6,#T_554cd99c_c1f7_11eb_8263_acde48001122row5_col0,#T_554cd99c_c1f7_11eb_8263_acde48001122row5_col1,#T_554cd99c_c1f7_11eb_8263_acde48001122row5_col2,#T_554cd99c_c1f7_11eb_8263_acde48001122row5_col3,#T_554cd99c_c1f7_11eb_8263_acde48001122row5_col4,#T_554cd99c_c1f7_11eb_8263_acde48001122row5_col5,#T_554cd99c_c1f7_11eb_8263_acde48001122row5_col6,#T_554cd99c_c1f7_11eb_8263_acde48001122row6_col0,#T_554cd99c_c1f7_11eb_8263_acde48001122row6_col1,#T_554cd99c_c1f7_11eb_8263_acde48001122row6_col2,#T_554cd99c_c1f7_11eb_8263_acde48001122row6_col3,#T_554cd99c_c1f7_11eb_8263_acde48001122row6_col4,#T_554cd99c_c1f7_11eb_8263_acde48001122row6_col5,#T_554cd99c_c1f7_11eb_8263_acde48001122row6_col6,#T_554cd99c_c1f7_11eb_8263_acde48001122row7_col0,#T_554cd99c_c1f7_11eb_8263_acde48001122row7_col1,#T_554cd99c_c1f7_11eb_8263_acde48001122row7_col2,#T_554cd99c_c1f7_11eb_8263_acde48001122row7_col3,#T_554cd99c_c1f7_11eb_8263_acde48001122row7_col4,#T_554cd99c_c1f7_11eb_8263_acde48001122row7_col5,#T_554cd99c_c1f7_11eb_8263_acde48001122row7_col6,#T_554cd99c_c1f7_11eb_8263_acde48001122row8_col0,#T_554cd99c_c1f7_11eb_8263_acde48001122row8_col1,#T_554cd99c_c1f7_11eb_8263_acde48001122row8_col2,#T_554cd99c_c1f7_11eb_8263_acde48001122row8_col3,#T_554cd99c_c1f7_11eb_8263_acde48001122row8_col4,#T_554cd99c_c1f7_11eb_8263_acde48001122row8_col5,#T_554cd99c_c1f7_11eb_8263_acde48001122row8_col6,#T_554cd99c_c1f7_11eb_8263_acde48001122row9_col0,#T_554cd99c_c1f7_11eb_8263_acde48001122row9_col1,#T_554cd99c_c1f7_11eb_8263_acde48001122row9_col2,#T_554cd99c_c1f7_11eb_8263_acde48001122row9_col3,#T_554cd99c_c1f7_11eb_8263_acde48001122row9_col4,#T_554cd99c_c1f7_11eb_8263_acde48001122row9_col5,#T_554cd99c_c1f7_11eb_8263_acde48001122row9_col6,#T_554cd99c_c1f7_11eb_8263_acde48001122row10_col0,#T_554cd99c_c1f7_11eb_8263_acde48001122row10_col1,#T_554cd99c_c1f7_11eb_8263_acde48001122row10_col2,#T_554cd99c_c1f7_11eb_8263_acde48001122row10_col3,#T_554cd99c_c1f7_11eb_8263_acde48001122row10_col4,#T_554cd99c_c1f7_11eb_8263_acde48001122row10_col5,#T_554cd99c_c1f7_11eb_8263_acde48001122row10_col6,#T_554cd99c_c1f7_11eb_8263_acde48001122row11_col0,#T_554cd99c_c1f7_11eb_8263_acde48001122row11_col1,#T_554cd99c_c1f7_11eb_8263_acde48001122row11_col2,#T_554cd99c_c1f7_11eb_8263_acde48001122row11_col3,#T_554cd99c_c1f7_11eb_8263_acde48001122row11_col4,#T_554cd99c_c1f7_11eb_8263_acde48001122row11_col5,#T_554cd99c_c1f7_11eb_8263_acde48001122row11_col6,#T_554cd99c_c1f7_11eb_8263_acde48001122row12_col0,#T_554cd99c_c1f7_11eb_8263_acde48001122row12_col1,#T_554cd99c_c1f7_11eb_8263_acde48001122row12_col2,#T_554cd99c_c1f7_11eb_8263_acde48001122row12_col3,#T_554cd99c_c1f7_11eb_8263_acde48001122row12_col4,#T_554cd99c_c1f7_11eb_8263_acde48001122row12_col5,#T_554cd99c_c1f7_11eb_8263_acde48001122row12_col6,#T_554cd99c_c1f7_11eb_8263_acde48001122row13_col0,#T_554cd99c_c1f7_11eb_8263_acde48001122row13_col1,#T_554cd99c_c1f7_11eb_8263_acde48001122row13_col2,#T_554cd99c_c1f7_11eb_8263_acde48001122row13_col3,#T_554cd99c_c1f7_11eb_8263_acde48001122row13_col4,#T_554cd99c_c1f7_11eb_8263_acde48001122row13_col5,#T_554cd99c_c1f7_11eb_8263_acde48001122row13_col6,#T_554cd99c_c1f7_11eb_8263_acde48001122row14_col0,#T_554cd99c_c1f7_11eb_8263_acde48001122row14_col1,#T_554cd99c_c1f7_11eb_8263_acde48001122row14_col2,#T_554cd99c_c1f7_11eb_8263_acde48001122row14_col3,#T_554cd99c_c1f7_11eb_8263_acde48001122row14_col4,#T_554cd99c_c1f7_11eb_8263_acde48001122row14_col5,#T_554cd99c_c1f7_11eb_8263_acde48001122row14_col6,#T_554cd99c_c1f7_11eb_8263_acde48001122row15_col0,#T_554cd99c_c1f7_11eb_8263_acde48001122row15_col1,#T_554cd99c_c1f7_11eb_8263_acde48001122row15_col2,#T_554cd99c_c1f7_11eb_8263_acde48001122row15_col3,#T_554cd99c_c1f7_11eb_8263_acde48001122row15_col4,#T_554cd99c_c1f7_11eb_8263_acde48001122row15_col5,#T_554cd99c_c1f7_11eb_8263_acde48001122row15_col6,#T_554cd99c_c1f7_11eb_8263_acde48001122row16_col0,#T_554cd99c_c1f7_11eb_8263_acde48001122row16_col1,#T_554cd99c_c1f7_11eb_8263_acde48001122row16_col2,#T_554cd99c_c1f7_11eb_8263_acde48001122row16_col3,#T_554cd99c_c1f7_11eb_8263_acde48001122row16_col4,#T_554cd99c_c1f7_11eb_8263_acde48001122row16_col5,#T_554cd99c_c1f7_11eb_8263_acde48001122row16_col6{\n",
       "            text-align:  left;\n",
       "            text-align:  left;\n",
       "        }#T_554cd99c_c1f7_11eb_8263_acde48001122row0_col1,#T_554cd99c_c1f7_11eb_8263_acde48001122row0_col2,#T_554cd99c_c1f7_11eb_8263_acde48001122row0_col3,#T_554cd99c_c1f7_11eb_8263_acde48001122row0_col4,#T_554cd99c_c1f7_11eb_8263_acde48001122row0_col5,#T_554cd99c_c1f7_11eb_8263_acde48001122row0_col6{\n",
       "            text-align:  left;\n",
       "            text-align:  left;\n",
       "            background-color:  yellow;\n",
       "        }#T_554cd99c_c1f7_11eb_8263_acde48001122row0_col7,#T_554cd99c_c1f7_11eb_8263_acde48001122row1_col7,#T_554cd99c_c1f7_11eb_8263_acde48001122row2_col7,#T_554cd99c_c1f7_11eb_8263_acde48001122row3_col7,#T_554cd99c_c1f7_11eb_8263_acde48001122row4_col7,#T_554cd99c_c1f7_11eb_8263_acde48001122row5_col7,#T_554cd99c_c1f7_11eb_8263_acde48001122row7_col7,#T_554cd99c_c1f7_11eb_8263_acde48001122row8_col7,#T_554cd99c_c1f7_11eb_8263_acde48001122row9_col7,#T_554cd99c_c1f7_11eb_8263_acde48001122row10_col7,#T_554cd99c_c1f7_11eb_8263_acde48001122row11_col7,#T_554cd99c_c1f7_11eb_8263_acde48001122row12_col7,#T_554cd99c_c1f7_11eb_8263_acde48001122row13_col7,#T_554cd99c_c1f7_11eb_8263_acde48001122row14_col7,#T_554cd99c_c1f7_11eb_8263_acde48001122row15_col7,#T_554cd99c_c1f7_11eb_8263_acde48001122row16_col7{\n",
       "            text-align:  left;\n",
       "            text-align:  left;\n",
       "            background-color:  lightgrey;\n",
       "        }#T_554cd99c_c1f7_11eb_8263_acde48001122row6_col7{\n",
       "            text-align:  left;\n",
       "            text-align:  left;\n",
       "            background-color:  yellow;\n",
       "            background-color:  lightgrey;\n",
       "        }</style><table id=\"T_554cd99c_c1f7_11eb_8263_acde48001122\" ><thead>    <tr>        <th class=\"blank level0\" ></th>        <th class=\"col_heading level0 col0\" >Model</th>        <th class=\"col_heading level0 col1\" >MAE</th>        <th class=\"col_heading level0 col2\" >MSE</th>        <th class=\"col_heading level0 col3\" >RMSE</th>        <th class=\"col_heading level0 col4\" >R2</th>        <th class=\"col_heading level0 col5\" >RMSLE</th>        <th class=\"col_heading level0 col6\" >MAPE</th>        <th class=\"col_heading level0 col7\" >TT (Sec)</th>    </tr></thead><tbody>\n",
       "                <tr>\n",
       "                        <th id=\"T_554cd99c_c1f7_11eb_8263_acde48001122level0_row0\" class=\"row_heading level0 row0\" >gbr</th>\n",
       "                        <td id=\"T_554cd99c_c1f7_11eb_8263_acde48001122row0_col0\" class=\"data row0 col0\" >Gradient Boosting Regressor</td>\n",
       "                        <td id=\"T_554cd99c_c1f7_11eb_8263_acde48001122row0_col1\" class=\"data row0 col1\" >0.4070</td>\n",
       "                        <td id=\"T_554cd99c_c1f7_11eb_8263_acde48001122row0_col2\" class=\"data row0 col2\" >0.2774</td>\n",
       "                        <td id=\"T_554cd99c_c1f7_11eb_8263_acde48001122row0_col3\" class=\"data row0 col3\" >0.5265</td>\n",
       "                        <td id=\"T_554cd99c_c1f7_11eb_8263_acde48001122row0_col4\" class=\"data row0 col4\" >0.7323</td>\n",
       "                        <td id=\"T_554cd99c_c1f7_11eb_8263_acde48001122row0_col5\" class=\"data row0 col5\" >0.0675</td>\n",
       "                        <td id=\"T_554cd99c_c1f7_11eb_8263_acde48001122row0_col6\" class=\"data row0 col6\" >0.0592</td>\n",
       "                        <td id=\"T_554cd99c_c1f7_11eb_8263_acde48001122row0_col7\" class=\"data row0 col7\" >1.8260</td>\n",
       "            </tr>\n",
       "            <tr>\n",
       "                        <th id=\"T_554cd99c_c1f7_11eb_8263_acde48001122level0_row1\" class=\"row_heading level0 row1\" >lightgbm</th>\n",
       "                        <td id=\"T_554cd99c_c1f7_11eb_8263_acde48001122row1_col0\" class=\"data row1 col0\" >Light Gradient Boosting Machine</td>\n",
       "                        <td id=\"T_554cd99c_c1f7_11eb_8263_acde48001122row1_col1\" class=\"data row1 col1\" >0.4131</td>\n",
       "                        <td id=\"T_554cd99c_c1f7_11eb_8263_acde48001122row1_col2\" class=\"data row1 col2\" >0.2840</td>\n",
       "                        <td id=\"T_554cd99c_c1f7_11eb_8263_acde48001122row1_col3\" class=\"data row1 col3\" >0.5328</td>\n",
       "                        <td id=\"T_554cd99c_c1f7_11eb_8263_acde48001122row1_col4\" class=\"data row1 col4\" >0.7258</td>\n",
       "                        <td id=\"T_554cd99c_c1f7_11eb_8263_acde48001122row1_col5\" class=\"data row1 col5\" >0.0681</td>\n",
       "                        <td id=\"T_554cd99c_c1f7_11eb_8263_acde48001122row1_col6\" class=\"data row1 col6\" >0.0600</td>\n",
       "                        <td id=\"T_554cd99c_c1f7_11eb_8263_acde48001122row1_col7\" class=\"data row1 col7\" >0.1540</td>\n",
       "            </tr>\n",
       "            <tr>\n",
       "                        <th id=\"T_554cd99c_c1f7_11eb_8263_acde48001122level0_row2\" class=\"row_heading level0 row2\" >xgboost</th>\n",
       "                        <td id=\"T_554cd99c_c1f7_11eb_8263_acde48001122row2_col0\" class=\"data row2 col0\" >Extreme Gradient Boosting</td>\n",
       "                        <td id=\"T_554cd99c_c1f7_11eb_8263_acde48001122row2_col1\" class=\"data row2 col1\" >0.4182</td>\n",
       "                        <td id=\"T_554cd99c_c1f7_11eb_8263_acde48001122row2_col2\" class=\"data row2 col2\" >0.2950</td>\n",
       "                        <td id=\"T_554cd99c_c1f7_11eb_8263_acde48001122row2_col3\" class=\"data row2 col3\" >0.5430</td>\n",
       "                        <td id=\"T_554cd99c_c1f7_11eb_8263_acde48001122row2_col4\" class=\"data row2 col4\" >0.7151</td>\n",
       "                        <td id=\"T_554cd99c_c1f7_11eb_8263_acde48001122row2_col5\" class=\"data row2 col5\" >0.0697</td>\n",
       "                        <td id=\"T_554cd99c_c1f7_11eb_8263_acde48001122row2_col6\" class=\"data row2 col6\" >0.0609</td>\n",
       "                        <td id=\"T_554cd99c_c1f7_11eb_8263_acde48001122row2_col7\" class=\"data row2 col7\" >7.7680</td>\n",
       "            </tr>\n",
       "            <tr>\n",
       "                        <th id=\"T_554cd99c_c1f7_11eb_8263_acde48001122level0_row3\" class=\"row_heading level0 row3\" >lar</th>\n",
       "                        <td id=\"T_554cd99c_c1f7_11eb_8263_acde48001122row3_col0\" class=\"data row3 col0\" >Least Angle Regression</td>\n",
       "                        <td id=\"T_554cd99c_c1f7_11eb_8263_acde48001122row3_col1\" class=\"data row3 col1\" >0.4241</td>\n",
       "                        <td id=\"T_554cd99c_c1f7_11eb_8263_acde48001122row3_col2\" class=\"data row3 col2\" >0.3032</td>\n",
       "                        <td id=\"T_554cd99c_c1f7_11eb_8263_acde48001122row3_col3\" class=\"data row3 col3\" >0.5505</td>\n",
       "                        <td id=\"T_554cd99c_c1f7_11eb_8263_acde48001122row3_col4\" class=\"data row3 col4\" >0.7073</td>\n",
       "                        <td id=\"T_554cd99c_c1f7_11eb_8263_acde48001122row3_col5\" class=\"data row3 col5\" >0.0707</td>\n",
       "                        <td id=\"T_554cd99c_c1f7_11eb_8263_acde48001122row3_col6\" class=\"data row3 col6\" >0.0618</td>\n",
       "                        <td id=\"T_554cd99c_c1f7_11eb_8263_acde48001122row3_col7\" class=\"data row3 col7\" >0.5060</td>\n",
       "            </tr>\n",
       "            <tr>\n",
       "                        <th id=\"T_554cd99c_c1f7_11eb_8263_acde48001122level0_row4\" class=\"row_heading level0 row4\" >rf</th>\n",
       "                        <td id=\"T_554cd99c_c1f7_11eb_8263_acde48001122row4_col0\" class=\"data row4 col0\" >Random Forest Regressor</td>\n",
       "                        <td id=\"T_554cd99c_c1f7_11eb_8263_acde48001122row4_col1\" class=\"data row4 col1\" >0.4373</td>\n",
       "                        <td id=\"T_554cd99c_c1f7_11eb_8263_acde48001122row4_col2\" class=\"data row4 col2\" >0.3219</td>\n",
       "                        <td id=\"T_554cd99c_c1f7_11eb_8263_acde48001122row4_col3\" class=\"data row4 col3\" >0.5672</td>\n",
       "                        <td id=\"T_554cd99c_c1f7_11eb_8263_acde48001122row4_col4\" class=\"data row4 col4\" >0.6892</td>\n",
       "                        <td id=\"T_554cd99c_c1f7_11eb_8263_acde48001122row4_col5\" class=\"data row4 col5\" >0.0724</td>\n",
       "                        <td id=\"T_554cd99c_c1f7_11eb_8263_acde48001122row4_col6\" class=\"data row4 col6\" >0.0636</td>\n",
       "                        <td id=\"T_554cd99c_c1f7_11eb_8263_acde48001122row4_col7\" class=\"data row4 col7\" >3.5180</td>\n",
       "            </tr>\n",
       "            <tr>\n",
       "                        <th id=\"T_554cd99c_c1f7_11eb_8263_acde48001122level0_row5\" class=\"row_heading level0 row5\" >ridge</th>\n",
       "                        <td id=\"T_554cd99c_c1f7_11eb_8263_acde48001122row5_col0\" class=\"data row5 col0\" >Ridge Regression</td>\n",
       "                        <td id=\"T_554cd99c_c1f7_11eb_8263_acde48001122row5_col1\" class=\"data row5 col1\" >0.4442</td>\n",
       "                        <td id=\"T_554cd99c_c1f7_11eb_8263_acde48001122row5_col2\" class=\"data row5 col2\" >0.3260</td>\n",
       "                        <td id=\"T_554cd99c_c1f7_11eb_8263_acde48001122row5_col3\" class=\"data row5 col3\" >0.5708</td>\n",
       "                        <td id=\"T_554cd99c_c1f7_11eb_8263_acde48001122row5_col4\" class=\"data row5 col4\" >0.6853</td>\n",
       "                        <td id=\"T_554cd99c_c1f7_11eb_8263_acde48001122row5_col5\" class=\"data row5 col5\" >0.0728</td>\n",
       "                        <td id=\"T_554cd99c_c1f7_11eb_8263_acde48001122row5_col6\" class=\"data row5 col6\" >0.0645</td>\n",
       "                        <td id=\"T_554cd99c_c1f7_11eb_8263_acde48001122row5_col7\" class=\"data row5 col7\" >0.3240</td>\n",
       "            </tr>\n",
       "            <tr>\n",
       "                        <th id=\"T_554cd99c_c1f7_11eb_8263_acde48001122level0_row6\" class=\"row_heading level0 row6\" >omp</th>\n",
       "                        <td id=\"T_554cd99c_c1f7_11eb_8263_acde48001122row6_col0\" class=\"data row6 col0\" >Orthogonal Matching Pursuit</td>\n",
       "                        <td id=\"T_554cd99c_c1f7_11eb_8263_acde48001122row6_col1\" class=\"data row6 col1\" >0.4446</td>\n",
       "                        <td id=\"T_554cd99c_c1f7_11eb_8263_acde48001122row6_col2\" class=\"data row6 col2\" >0.3371</td>\n",
       "                        <td id=\"T_554cd99c_c1f7_11eb_8263_acde48001122row6_col3\" class=\"data row6 col3\" >0.5804</td>\n",
       "                        <td id=\"T_554cd99c_c1f7_11eb_8263_acde48001122row6_col4\" class=\"data row6 col4\" >0.6744</td>\n",
       "                        <td id=\"T_554cd99c_c1f7_11eb_8263_acde48001122row6_col5\" class=\"data row6 col5\" >0.0747</td>\n",
       "                        <td id=\"T_554cd99c_c1f7_11eb_8263_acde48001122row6_col6\" class=\"data row6 col6\" >0.0646</td>\n",
       "                        <td id=\"T_554cd99c_c1f7_11eb_8263_acde48001122row6_col7\" class=\"data row6 col7\" >0.1140</td>\n",
       "            </tr>\n",
       "            <tr>\n",
       "                        <th id=\"T_554cd99c_c1f7_11eb_8263_acde48001122level0_row7\" class=\"row_heading level0 row7\" >huber</th>\n",
       "                        <td id=\"T_554cd99c_c1f7_11eb_8263_acde48001122row7_col0\" class=\"data row7 col0\" >Huber Regressor</td>\n",
       "                        <td id=\"T_554cd99c_c1f7_11eb_8263_acde48001122row7_col1\" class=\"data row7 col1\" >0.4692</td>\n",
       "                        <td id=\"T_554cd99c_c1f7_11eb_8263_acde48001122row7_col2\" class=\"data row7 col2\" >0.3639</td>\n",
       "                        <td id=\"T_554cd99c_c1f7_11eb_8263_acde48001122row7_col3\" class=\"data row7 col3\" >0.6030</td>\n",
       "                        <td id=\"T_554cd99c_c1f7_11eb_8263_acde48001122row7_col4\" class=\"data row7 col4\" >0.6488</td>\n",
       "                        <td id=\"T_554cd99c_c1f7_11eb_8263_acde48001122row7_col5\" class=\"data row7 col5\" >0.0767</td>\n",
       "                        <td id=\"T_554cd99c_c1f7_11eb_8263_acde48001122row7_col6\" class=\"data row7 col6\" >0.0681</td>\n",
       "                        <td id=\"T_554cd99c_c1f7_11eb_8263_acde48001122row7_col7\" class=\"data row7 col7\" >3.7940</td>\n",
       "            </tr>\n",
       "            <tr>\n",
       "                        <th id=\"T_554cd99c_c1f7_11eb_8263_acde48001122level0_row8\" class=\"row_heading level0 row8\" >et</th>\n",
       "                        <td id=\"T_554cd99c_c1f7_11eb_8263_acde48001122row8_col0\" class=\"data row8 col0\" >Extra Trees Regressor</td>\n",
       "                        <td id=\"T_554cd99c_c1f7_11eb_8263_acde48001122row8_col1\" class=\"data row8 col1\" >0.4615</td>\n",
       "                        <td id=\"T_554cd99c_c1f7_11eb_8263_acde48001122row8_col2\" class=\"data row8 col2\" >0.3642</td>\n",
       "                        <td id=\"T_554cd99c_c1f7_11eb_8263_acde48001122row8_col3\" class=\"data row8 col3\" >0.6033</td>\n",
       "                        <td id=\"T_554cd99c_c1f7_11eb_8263_acde48001122row8_col4\" class=\"data row8 col4\" >0.6482</td>\n",
       "                        <td id=\"T_554cd99c_c1f7_11eb_8263_acde48001122row8_col5\" class=\"data row8 col5\" >0.0771</td>\n",
       "                        <td id=\"T_554cd99c_c1f7_11eb_8263_acde48001122row8_col6\" class=\"data row8 col6\" >0.0669</td>\n",
       "                        <td id=\"T_554cd99c_c1f7_11eb_8263_acde48001122row8_col7\" class=\"data row8 col7\" >5.4140</td>\n",
       "            </tr>\n",
       "            <tr>\n",
       "                        <th id=\"T_554cd99c_c1f7_11eb_8263_acde48001122level0_row9\" class=\"row_heading level0 row9\" >ada</th>\n",
       "                        <td id=\"T_554cd99c_c1f7_11eb_8263_acde48001122row9_col0\" class=\"data row9 col0\" >AdaBoost Regressor</td>\n",
       "                        <td id=\"T_554cd99c_c1f7_11eb_8263_acde48001122row9_col1\" class=\"data row9 col1\" >0.5314</td>\n",
       "                        <td id=\"T_554cd99c_c1f7_11eb_8263_acde48001122row9_col2\" class=\"data row9 col2\" >0.4010</td>\n",
       "                        <td id=\"T_554cd99c_c1f7_11eb_8263_acde48001122row9_col3\" class=\"data row9 col3\" >0.6329</td>\n",
       "                        <td id=\"T_554cd99c_c1f7_11eb_8263_acde48001122row9_col4\" class=\"data row9 col4\" >0.6123</td>\n",
       "                        <td id=\"T_554cd99c_c1f7_11eb_8263_acde48001122row9_col5\" class=\"data row9 col5\" >0.0790</td>\n",
       "                        <td id=\"T_554cd99c_c1f7_11eb_8263_acde48001122row9_col6\" class=\"data row9 col6\" >0.0740</td>\n",
       "                        <td id=\"T_554cd99c_c1f7_11eb_8263_acde48001122row9_col7\" class=\"data row9 col7\" >6.1180</td>\n",
       "            </tr>\n",
       "            <tr>\n",
       "                        <th id=\"T_554cd99c_c1f7_11eb_8263_acde48001122level0_row10\" class=\"row_heading level0 row10\" >knn</th>\n",
       "                        <td id=\"T_554cd99c_c1f7_11eb_8263_acde48001122row10_col0\" class=\"data row10 col0\" >K Neighbors Regressor</td>\n",
       "                        <td id=\"T_554cd99c_c1f7_11eb_8263_acde48001122row10_col1\" class=\"data row10 col1\" >0.5293</td>\n",
       "                        <td id=\"T_554cd99c_c1f7_11eb_8263_acde48001122row10_col2\" class=\"data row10 col2\" >0.4808</td>\n",
       "                        <td id=\"T_554cd99c_c1f7_11eb_8263_acde48001122row10_col3\" class=\"data row10 col3\" >0.6933</td>\n",
       "                        <td id=\"T_554cd99c_c1f7_11eb_8263_acde48001122row10_col4\" class=\"data row10 col4\" >0.5361</td>\n",
       "                        <td id=\"T_554cd99c_c1f7_11eb_8263_acde48001122row10_col5\" class=\"data row10 col5\" >0.0906</td>\n",
       "                        <td id=\"T_554cd99c_c1f7_11eb_8263_acde48001122row10_col6\" class=\"data row10 col6\" >0.0791</td>\n",
       "                        <td id=\"T_554cd99c_c1f7_11eb_8263_acde48001122row10_col7\" class=\"data row10 col7\" >1.7540</td>\n",
       "            </tr>\n",
       "            <tr>\n",
       "                        <th id=\"T_554cd99c_c1f7_11eb_8263_acde48001122level0_row11\" class=\"row_heading level0 row11\" >dt</th>\n",
       "                        <td id=\"T_554cd99c_c1f7_11eb_8263_acde48001122row11_col0\" class=\"data row11 col0\" >Decision Tree Regressor</td>\n",
       "                        <td id=\"T_554cd99c_c1f7_11eb_8263_acde48001122row11_col1\" class=\"data row11 col1\" >0.5496</td>\n",
       "                        <td id=\"T_554cd99c_c1f7_11eb_8263_acde48001122row11_col2\" class=\"data row11 col2\" >0.5140</td>\n",
       "                        <td id=\"T_554cd99c_c1f7_11eb_8263_acde48001122row11_col3\" class=\"data row11 col3\" >0.7169</td>\n",
       "                        <td id=\"T_554cd99c_c1f7_11eb_8263_acde48001122row11_col4\" class=\"data row11 col4\" >0.5034</td>\n",
       "                        <td id=\"T_554cd99c_c1f7_11eb_8263_acde48001122row11_col5\" class=\"data row11 col5\" >0.0913</td>\n",
       "                        <td id=\"T_554cd99c_c1f7_11eb_8263_acde48001122row11_col6\" class=\"data row11 col6\" >0.0791</td>\n",
       "                        <td id=\"T_554cd99c_c1f7_11eb_8263_acde48001122row11_col7\" class=\"data row11 col7\" >0.1320</td>\n",
       "            </tr>\n",
       "            <tr>\n",
       "                        <th id=\"T_554cd99c_c1f7_11eb_8263_acde48001122level0_row12\" class=\"row_heading level0 row12\" >par</th>\n",
       "                        <td id=\"T_554cd99c_c1f7_11eb_8263_acde48001122row12_col0\" class=\"data row12 col0\" >Passive Aggressive Regressor</td>\n",
       "                        <td id=\"T_554cd99c_c1f7_11eb_8263_acde48001122row12_col1\" class=\"data row12 col1\" >0.5871</td>\n",
       "                        <td id=\"T_554cd99c_c1f7_11eb_8263_acde48001122row12_col2\" class=\"data row12 col2\" >0.5510</td>\n",
       "                        <td id=\"T_554cd99c_c1f7_11eb_8263_acde48001122row12_col3\" class=\"data row12 col3\" >0.7411</td>\n",
       "                        <td id=\"T_554cd99c_c1f7_11eb_8263_acde48001122row12_col4\" class=\"data row12 col4\" >0.4681</td>\n",
       "                        <td id=\"T_554cd99c_c1f7_11eb_8263_acde48001122row12_col5\" class=\"data row12 col5\" >0.0941</td>\n",
       "                        <td id=\"T_554cd99c_c1f7_11eb_8263_acde48001122row12_col6\" class=\"data row12 col6\" >0.0838</td>\n",
       "                        <td id=\"T_554cd99c_c1f7_11eb_8263_acde48001122row12_col7\" class=\"data row12 col7\" >0.2140</td>\n",
       "            </tr>\n",
       "            <tr>\n",
       "                        <th id=\"T_554cd99c_c1f7_11eb_8263_acde48001122level0_row13\" class=\"row_heading level0 row13\" >en</th>\n",
       "                        <td id=\"T_554cd99c_c1f7_11eb_8263_acde48001122row13_col0\" class=\"data row13 col0\" >Elastic Net</td>\n",
       "                        <td id=\"T_554cd99c_c1f7_11eb_8263_acde48001122row13_col1\" class=\"data row13 col1\" >0.7972</td>\n",
       "                        <td id=\"T_554cd99c_c1f7_11eb_8263_acde48001122row13_col2\" class=\"data row13 col2\" >1.0215</td>\n",
       "                        <td id=\"T_554cd99c_c1f7_11eb_8263_acde48001122row13_col3\" class=\"data row13 col3\" >1.0104</td>\n",
       "                        <td id=\"T_554cd99c_c1f7_11eb_8263_acde48001122row13_col4\" class=\"data row13 col4\" >0.0160</td>\n",
       "                        <td id=\"T_554cd99c_c1f7_11eb_8263_acde48001122row13_col5\" class=\"data row13 col5\" >0.1321</td>\n",
       "                        <td id=\"T_554cd99c_c1f7_11eb_8263_acde48001122row13_col6\" class=\"data row13 col6\" >0.1206</td>\n",
       "                        <td id=\"T_554cd99c_c1f7_11eb_8263_acde48001122row13_col7\" class=\"data row13 col7\" >0.2720</td>\n",
       "            </tr>\n",
       "            <tr>\n",
       "                        <th id=\"T_554cd99c_c1f7_11eb_8263_acde48001122level0_row14\" class=\"row_heading level0 row14\" >lasso</th>\n",
       "                        <td id=\"T_554cd99c_c1f7_11eb_8263_acde48001122row14_col0\" class=\"data row14 col0\" >Lasso Regression</td>\n",
       "                        <td id=\"T_554cd99c_c1f7_11eb_8263_acde48001122row14_col1\" class=\"data row14 col1\" >0.8051</td>\n",
       "                        <td id=\"T_554cd99c_c1f7_11eb_8263_acde48001122row14_col2\" class=\"data row14 col2\" >1.0386</td>\n",
       "                        <td id=\"T_554cd99c_c1f7_11eb_8263_acde48001122row14_col3\" class=\"data row14 col3\" >1.0188</td>\n",
       "                        <td id=\"T_554cd99c_c1f7_11eb_8263_acde48001122row14_col4\" class=\"data row14 col4\" >-0.0007</td>\n",
       "                        <td id=\"T_554cd99c_c1f7_11eb_8263_acde48001122row14_col5\" class=\"data row14 col5\" >0.1331</td>\n",
       "                        <td id=\"T_554cd99c_c1f7_11eb_8263_acde48001122row14_col6\" class=\"data row14 col6\" >0.1218</td>\n",
       "                        <td id=\"T_554cd99c_c1f7_11eb_8263_acde48001122row14_col7\" class=\"data row14 col7\" >0.2960</td>\n",
       "            </tr>\n",
       "            <tr>\n",
       "                        <th id=\"T_554cd99c_c1f7_11eb_8263_acde48001122level0_row15\" class=\"row_heading level0 row15\" >llar</th>\n",
       "                        <td id=\"T_554cd99c_c1f7_11eb_8263_acde48001122row15_col0\" class=\"data row15 col0\" >Lasso Least Angle Regression</td>\n",
       "                        <td id=\"T_554cd99c_c1f7_11eb_8263_acde48001122row15_col1\" class=\"data row15 col1\" >0.8051</td>\n",
       "                        <td id=\"T_554cd99c_c1f7_11eb_8263_acde48001122row15_col2\" class=\"data row15 col2\" >1.0386</td>\n",
       "                        <td id=\"T_554cd99c_c1f7_11eb_8263_acde48001122row15_col3\" class=\"data row15 col3\" >1.0188</td>\n",
       "                        <td id=\"T_554cd99c_c1f7_11eb_8263_acde48001122row15_col4\" class=\"data row15 col4\" >-0.0007</td>\n",
       "                        <td id=\"T_554cd99c_c1f7_11eb_8263_acde48001122row15_col5\" class=\"data row15 col5\" >0.1331</td>\n",
       "                        <td id=\"T_554cd99c_c1f7_11eb_8263_acde48001122row15_col6\" class=\"data row15 col6\" >0.1218</td>\n",
       "                        <td id=\"T_554cd99c_c1f7_11eb_8263_acde48001122row15_col7\" class=\"data row15 col7\" >0.1220</td>\n",
       "            </tr>\n",
       "            <tr>\n",
       "                        <th id=\"T_554cd99c_c1f7_11eb_8263_acde48001122level0_row16\" class=\"row_heading level0 row16\" >lr</th>\n",
       "                        <td id=\"T_554cd99c_c1f7_11eb_8263_acde48001122row16_col0\" class=\"data row16 col0\" >Linear Regression</td>\n",
       "                        <td id=\"T_554cd99c_c1f7_11eb_8263_acde48001122row16_col1\" class=\"data row16 col1\" >30.3094</td>\n",
       "                        <td id=\"T_554cd99c_c1f7_11eb_8263_acde48001122row16_col2\" class=\"data row16 col2\" >278561.1778</td>\n",
       "                        <td id=\"T_554cd99c_c1f7_11eb_8263_acde48001122row16_col3\" class=\"data row16 col3\" >352.3179</td>\n",
       "                        <td id=\"T_554cd99c_c1f7_11eb_8263_acde48001122row16_col4\" class=\"data row16 col4\" >-268029.2232</td>\n",
       "                        <td id=\"T_554cd99c_c1f7_11eb_8263_acde48001122row16_col5\" class=\"data row16 col5\" >0.5178</td>\n",
       "                        <td id=\"T_554cd99c_c1f7_11eb_8263_acde48001122row16_col6\" class=\"data row16 col6\" >4.0235</td>\n",
       "                        <td id=\"T_554cd99c_c1f7_11eb_8263_acde48001122row16_col7\" class=\"data row16 col7\" >1.2280</td>\n",
       "            </tr>\n",
       "    </tbody></table>"
      ],
      "text/plain": [
       "<pandas.io.formats.style.Styler at 0x7fe1341c30a0>"
      ]
     },
     "metadata": {},
     "output_type": "display_data"
    }
   ],
   "source": [
    "best5 = compare_models(fold = 5, sort = 'RMSE', n_select = 5, exclude = ['br'])"
   ]
  },
  {
   "cell_type": "code",
   "execution_count": null,
   "metadata": {},
   "outputs": [],
   "source": [
    "tuned_gbr = tune_model(gbr, optimize = 'RMSE', n_iter = 10)"
   ]
  },
  {
   "cell_type": "code",
   "execution_count": null,
   "metadata": {},
   "outputs": [],
   "source": []
  },
  {
   "cell_type": "code",
   "execution_count": 52,
   "metadata": {},
   "outputs": [],
   "source": [
    "train_X = X_train[:1025]\n",
    "test_X = X_train[1025:]\n",
    "train_y = y_train[:1025]\n",
    "test_y = y_train[1025:]"
   ]
  },
  {
   "cell_type": "code",
   "execution_count": null,
   "metadata": {},
   "outputs": [],
   "source": []
  },
  {
   "cell_type": "code",
   "execution_count": 53,
   "metadata": {},
   "outputs": [
    {
     "data": {
      "text/plain": [
       "0.5322218078576042"
      ]
     },
     "execution_count": 53,
     "metadata": {},
     "output_type": "execute_result"
    }
   ],
   "source": [
    "from sklearn.ensemble import GradientBoostingRegressor\n",
    "from sklearn.metrics import mean_squared_error\n",
    "\n",
    "gbr=GradientBoostingRegressor()\n",
    "gbr.fit(train_X,train_y)\n",
    "p=gbr.predict(test_X)\n",
    "gb_score=mean_squared_error(test_y,p)\n",
    "gb_score=np.sqrt(gb_score)\n",
    "gb_score"
   ]
  },
  {
   "cell_type": "code",
   "execution_count": 54,
   "metadata": {},
   "outputs": [
    {
     "data": {
      "text/plain": [
       "(0.5518365311645893, 0.04164246225750361)"
      ]
     },
     "execution_count": 54,
     "metadata": {},
     "output_type": "execute_result"
    }
   ],
   "source": [
    "from sklearn.model_selection import cross_val_score\n",
    "\n",
    "gb=GradientBoostingRegressor()\n",
    "score=cross_val_score(gb,train_X,train_y,cv=10,scoring='neg_mean_squared_error')\n",
    "gb_score_cross=np.sqrt(-score)\n",
    "np.mean(gb_score_cross),np.std(gb_score_cross)"
   ]
  },
  {
   "cell_type": "code",
   "execution_count": 55,
   "metadata": {},
   "outputs": [
    {
     "data": {
      "text/plain": [
       "(5681,)"
      ]
     },
     "execution_count": 55,
     "metadata": {},
     "output_type": "execute_result"
    }
   ],
   "source": [
    "predict=gbr.predict(X_test)\n",
    "predict.shape"
   ]
  },
  {
   "cell_type": "code",
   "execution_count": 56,
   "metadata": {},
   "outputs": [],
   "source": [
    "final = np.exp(predict)-1"
   ]
  },
  {
   "cell_type": "code",
   "execution_count": 57,
   "metadata": {},
   "outputs": [
    {
     "data": {
      "text/html": [
       "<div>\n",
       "<style scoped>\n",
       "    .dataframe tbody tr th:only-of-type {\n",
       "        vertical-align: middle;\n",
       "    }\n",
       "\n",
       "    .dataframe tbody tr th {\n",
       "        vertical-align: top;\n",
       "    }\n",
       "\n",
       "    .dataframe thead th {\n",
       "        text-align: right;\n",
       "    }\n",
       "</style>\n",
       "<table border=\"1\" class=\"dataframe\">\n",
       "  <thead>\n",
       "    <tr style=\"text-align: right;\">\n",
       "      <th></th>\n",
       "      <th>Item_Identifier</th>\n",
       "      <th>Outlet_Identifier</th>\n",
       "      <th>Item_Outlet_Sales</th>\n",
       "    </tr>\n",
       "  </thead>\n",
       "  <tbody>\n",
       "    <tr>\n",
       "      <th>0</th>\n",
       "      <td>FDW58</td>\n",
       "      <td>OUT049</td>\n",
       "      <td>1000</td>\n",
       "    </tr>\n",
       "    <tr>\n",
       "      <th>1</th>\n",
       "      <td>FDW14</td>\n",
       "      <td>OUT017</td>\n",
       "      <td>1000</td>\n",
       "    </tr>\n",
       "    <tr>\n",
       "      <th>2</th>\n",
       "      <td>NCN55</td>\n",
       "      <td>OUT010</td>\n",
       "      <td>1000</td>\n",
       "    </tr>\n",
       "    <tr>\n",
       "      <th>3</th>\n",
       "      <td>FDQ58</td>\n",
       "      <td>OUT017</td>\n",
       "      <td>1000</td>\n",
       "    </tr>\n",
       "    <tr>\n",
       "      <th>4</th>\n",
       "      <td>FDY38</td>\n",
       "      <td>OUT027</td>\n",
       "      <td>1000</td>\n",
       "    </tr>\n",
       "  </tbody>\n",
       "</table>\n",
       "</div>"
      ],
      "text/plain": [
       "  Item_Identifier Outlet_Identifier  Item_Outlet_Sales\n",
       "0           FDW58            OUT049               1000\n",
       "1           FDW14            OUT017               1000\n",
       "2           NCN55            OUT010               1000\n",
       "3           FDQ58            OUT017               1000\n",
       "4           FDY38            OUT027               1000"
      ]
     },
     "execution_count": 57,
     "metadata": {},
     "output_type": "execute_result"
    }
   ],
   "source": [
    "sample=pd.read_csv('./data/sample_submission_8RXa3c6.csv')\n",
    "sample.head()"
   ]
  },
  {
   "cell_type": "code",
   "execution_count": 58,
   "metadata": {},
   "outputs": [],
   "source": [
    "del sample['Item_Outlet_Sales']"
   ]
  },
  {
   "cell_type": "code",
   "execution_count": 59,
   "metadata": {},
   "outputs": [
    {
     "data": {
      "text/html": [
       "<div>\n",
       "<style scoped>\n",
       "    .dataframe tbody tr th:only-of-type {\n",
       "        vertical-align: middle;\n",
       "    }\n",
       "\n",
       "    .dataframe tbody tr th {\n",
       "        vertical-align: top;\n",
       "    }\n",
       "\n",
       "    .dataframe thead th {\n",
       "        text-align: right;\n",
       "    }\n",
       "</style>\n",
       "<table border=\"1\" class=\"dataframe\">\n",
       "  <thead>\n",
       "    <tr style=\"text-align: right;\">\n",
       "      <th></th>\n",
       "      <th>Item_Identifier</th>\n",
       "      <th>Outlet_Identifier</th>\n",
       "      <th>Item_Outlet_Sales</th>\n",
       "    </tr>\n",
       "  </thead>\n",
       "  <tbody>\n",
       "    <tr>\n",
       "      <th>0</th>\n",
       "      <td>FDW58</td>\n",
       "      <td>OUT049</td>\n",
       "      <td>1693.506889</td>\n",
       "    </tr>\n",
       "    <tr>\n",
       "      <th>1</th>\n",
       "      <td>FDW14</td>\n",
       "      <td>OUT017</td>\n",
       "      <td>1302.658011</td>\n",
       "    </tr>\n",
       "    <tr>\n",
       "      <th>2</th>\n",
       "      <td>NCN55</td>\n",
       "      <td>OUT010</td>\n",
       "      <td>588.754663</td>\n",
       "    </tr>\n",
       "    <tr>\n",
       "      <th>3</th>\n",
       "      <td>FDQ58</td>\n",
       "      <td>OUT017</td>\n",
       "      <td>2293.227839</td>\n",
       "    </tr>\n",
       "    <tr>\n",
       "      <th>4</th>\n",
       "      <td>FDY38</td>\n",
       "      <td>OUT027</td>\n",
       "      <td>5101.382000</td>\n",
       "    </tr>\n",
       "    <tr>\n",
       "      <th>...</th>\n",
       "      <td>...</td>\n",
       "      <td>...</td>\n",
       "      <td>...</td>\n",
       "    </tr>\n",
       "    <tr>\n",
       "      <th>5676</th>\n",
       "      <td>FDB58</td>\n",
       "      <td>OUT046</td>\n",
       "      <td>1837.091413</td>\n",
       "    </tr>\n",
       "    <tr>\n",
       "      <th>5677</th>\n",
       "      <td>FDD47</td>\n",
       "      <td>OUT018</td>\n",
       "      <td>2261.769727</td>\n",
       "    </tr>\n",
       "    <tr>\n",
       "      <th>5678</th>\n",
       "      <td>NCO17</td>\n",
       "      <td>OUT045</td>\n",
       "      <td>1712.967358</td>\n",
       "    </tr>\n",
       "    <tr>\n",
       "      <th>5679</th>\n",
       "      <td>FDJ26</td>\n",
       "      <td>OUT017</td>\n",
       "      <td>3288.549259</td>\n",
       "    </tr>\n",
       "    <tr>\n",
       "      <th>5680</th>\n",
       "      <td>FDU37</td>\n",
       "      <td>OUT045</td>\n",
       "      <td>1047.746211</td>\n",
       "    </tr>\n",
       "  </tbody>\n",
       "</table>\n",
       "<p>5681 rows × 3 columns</p>\n",
       "</div>"
      ],
      "text/plain": [
       "     Item_Identifier Outlet_Identifier  Item_Outlet_Sales\n",
       "0              FDW58            OUT049        1693.506889\n",
       "1              FDW14            OUT017        1302.658011\n",
       "2              NCN55            OUT010         588.754663\n",
       "3              FDQ58            OUT017        2293.227839\n",
       "4              FDY38            OUT027        5101.382000\n",
       "...              ...               ...                ...\n",
       "5676           FDB58            OUT046        1837.091413\n",
       "5677           FDD47            OUT018        2261.769727\n",
       "5678           NCO17            OUT045        1712.967358\n",
       "5679           FDJ26            OUT017        3288.549259\n",
       "5680           FDU37            OUT045        1047.746211\n",
       "\n",
       "[5681 rows x 3 columns]"
      ]
     },
     "execution_count": 59,
     "metadata": {},
     "output_type": "execute_result"
    }
   ],
   "source": [
    "df=pd.DataFrame({'Item_Outlet_Sales':final})\n",
    "corr_ans=pd.concat([sample,df],axis=1)\n",
    "corr_ans"
   ]
  },
  {
   "cell_type": "code",
   "execution_count": 60,
   "metadata": {},
   "outputs": [],
   "source": [
    "corr_ans.to_csv('submission2.csv',index=None)"
   ]
  },
  {
   "cell_type": "code",
   "execution_count": null,
   "metadata": {},
   "outputs": [],
   "source": []
  }
 ],
 "metadata": {
  "kernelspec": {
   "display_name": "Python 3",
   "language": "python",
   "name": "python3"
  },
  "language_info": {
   "codemirror_mode": {
    "name": "ipython",
    "version": 3
   },
   "file_extension": ".py",
   "mimetype": "text/x-python",
   "name": "python",
   "nbconvert_exporter": "python",
   "pygments_lexer": "ipython3",
   "version": "3.8.0"
  }
 },
 "nbformat": 4,
 "nbformat_minor": 4
}
